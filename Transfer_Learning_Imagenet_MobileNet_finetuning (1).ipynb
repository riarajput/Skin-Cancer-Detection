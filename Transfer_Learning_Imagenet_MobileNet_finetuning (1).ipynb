{
  "nbformat": 4,
  "nbformat_minor": 0,
  "metadata": {
    "colab": {
      "name": "Transfer_Learning_Imagenet_MobileNet_finetuning.ipynb",
      "provenance": [],
      "collapsed_sections": []
    },
    "kernelspec": {
      "name": "python3",
      "display_name": "Python 3"
    }
  },
  "cells": [
    {
      "cell_type": "markdown",
      "metadata": {
        "id": "_aRfg6AzKCbZ",
        "colab_type": "text"
      },
      "source": [
        "**ABSTRACT** : To perform fine tuning of the mobilenet model by using Imagenet pretrained model and fine tune it further to analyze the training, testing and validation set accuracy."
      ]
    },
    {
      "cell_type": "markdown",
      "metadata": {
        "id": "Rt5--Z4Fbc76",
        "colab_type": "text"
      },
      "source": [
        "**TRANSFER** **LEARNING** **WITH** **MOBILENET** **MODEL**\n",
        "\n",
        "**Q**. What is transfer learning?\n",
        "\n",
        "**Ans**. Transfer of learning occurs when people apply information, strategies, and skills they have learned to a new situation or context. Transfer is not a discrete activity, but is rather an integral part of the learning process. Researchers attempt to identify when and how transfer occurs and to offer strategies to improve transfer.\n",
        "\n",
        "**Q** Why do we do transfer learning?\n",
        "\n",
        "**Ans**. Transfer learning has immense potential and is a commonly required enhancement for existing learning algorithms.\n",
        "\n",
        "**Q** What is MobileNet model?\n",
        "\n",
        "**Ans** The MobileNet model is designed to be used in mobile applications, and it is TensorFlow’s first mobile computer vision model.\n",
        "\n",
        "**Q** Why did I choose MobileNet as my model?\n",
        "\n",
        "Ans Since MobileNet uses depthwise separable convolutions. This results in lightweight deep neural networks. \n",
        "\n",
        "- A depthwise separable convolution is made from two operations.\n",
        "\n",
        "- As well as the computation speed of a MobileNet model is faster as compared to other pretrained models."
      ]
    },
    {
      "cell_type": "markdown",
      "metadata": {
        "id": "5UAo2fKTlGX0",
        "colab_type": "text"
      },
      "source": [
        "**Loading** **all** **the** **important** **libraries**"
      ]
    },
    {
      "cell_type": "code",
      "metadata": {
        "id": "n3QM7TvQfAuk",
        "colab_type": "code",
        "colab": {}
      },
      "source": [
        "import pandas as pd\n",
        "import numpy as np\n",
        "import os\n",
        "import keras\n",
        "import matplotlib.pyplot as plt\n",
        "\n",
        "from sklearn.model_selection import train_test_split\n",
        "from keras.utils.np_utils import to_categorical # convert to one-hot-encoding\n",
        "\n",
        "from keras.layers import Dense,GlobalAveragePooling2D\n",
        "from keras.applications import MobileNet\n",
        "from keras.preprocessing import image\n",
        "from keras.applications.mobilenet import preprocess_input\n",
        "from keras.preprocessing.image import ImageDataGenerator\n",
        "from keras.models import Model\n",
        "from keras.optimizers import Adam\n",
        "from keras import backend as K\n"
      ],
      "execution_count": 1,
      "outputs": []
    },
    {
      "cell_type": "code",
      "metadata": {
        "id": "5Y-AMVlQfFix",
        "colab_type": "code",
        "colab": {}
      },
      "source": [
        "X_train = np.load(\"/content/drive/My Drive/256_192_train (1).npy\")"
      ],
      "execution_count": 2,
      "outputs": []
    },
    {
      "cell_type": "markdown",
      "metadata": {
        "id": "qOaCi1oClUN8",
        "colab_type": "text"
      },
      "source": [
        "**Checking** **the** **shape** **of** **X_train**"
      ]
    },
    {
      "cell_type": "code",
      "metadata": {
        "id": "SQrv_NY3fdQY",
        "colab_type": "code",
        "colab": {
          "base_uri": "https://localhost:8080/",
          "height": 34
        },
        "outputId": "32943ff2-c031-412c-a844-ad31f69b1918"
      },
      "source": [
        " X_train.shape"
      ],
      "execution_count": 3,
      "outputs": [
        {
          "output_type": "execute_result",
          "data": {
            "text/plain": [
              "(8111, 192, 256, 3)"
            ]
          },
          "metadata": {
            "tags": []
          },
          "execution_count": 3
        }
      ]
    },
    {
      "cell_type": "markdown",
      "metadata": {
        "id": "5w1iit9Vx_RV",
        "colab_type": "text"
      },
      "source": [
        "**NOTE** : Since the X_train is an image of the size 192x256x3, the shape of X_train comes out as a 4D array."
      ]
    },
    {
      "cell_type": "code",
      "metadata": {
        "id": "Um089Kn-fuzJ",
        "colab_type": "code",
        "colab": {}
      },
      "source": [
        "y_train = np.load(\"/content/drive/My Drive/train_labels.npy\")"
      ],
      "execution_count": 4,
      "outputs": []
    },
    {
      "cell_type": "code",
      "metadata": {
        "id": "UncRRK4-fz1K",
        "colab_type": "code",
        "colab": {}
      },
      "source": [
        "X_val = np.load(\"/content/drive/My Drive/256_192_val (1).npy\")"
      ],
      "execution_count": 5,
      "outputs": []
    },
    {
      "cell_type": "code",
      "metadata": {
        "id": "cFRiJDS6f9QD",
        "colab_type": "code",
        "colab": {}
      },
      "source": [
        "y_val = np.load(\"/content/drive/My Drive/val_labels.npy\")"
      ],
      "execution_count": 6,
      "outputs": []
    },
    {
      "cell_type": "code",
      "metadata": {
        "id": "i3DHDdljgBsj",
        "colab_type": "code",
        "colab": {
          "base_uri": "https://localhost:8080/",
          "height": 34
        },
        "outputId": "2b60220a-43b4-4ac9-82c2-0547c26b99c7"
      },
      "source": [
        "X_train.shape, X_val.shape"
      ],
      "execution_count": 8,
      "outputs": [
        {
          "output_type": "execute_result",
          "data": {
            "text/plain": [
              "((8111, 192, 256, 3), (902, 192, 256, 3))"
            ]
          },
          "metadata": {
            "tags": []
          },
          "execution_count": 8
        }
      ]
    },
    {
      "cell_type": "markdown",
      "metadata": {
        "id": "TdASyz23YNwA",
        "colab_type": "text"
      },
      "source": [
        "Similarly, that is the same case with X_val as well."
      ]
    },
    {
      "cell_type": "code",
      "metadata": {
        "id": "cSd1jhA7gFd9",
        "colab_type": "code",
        "colab": {
          "base_uri": "https://localhost:8080/",
          "height": 34
        },
        "outputId": "c98537d6-af61-49b5-94b0-3f7db4e3d854"
      },
      "source": [
        "y_train.shape, y_val.shape"
      ],
      "execution_count": 9,
      "outputs": [
        {
          "output_type": "execute_result",
          "data": {
            "text/plain": [
              "((8111,), (902,))"
            ]
          },
          "metadata": {
            "tags": []
          },
          "execution_count": 9
        }
      ]
    },
    {
      "cell_type": "markdown",
      "metadata": {
        "id": "VLhaoLNzYX7R",
        "colab_type": "text"
      },
      "source": [
        "**NOTE** : Since the y_train and y_val are just column values and we have 7 different classes in the dataset, it is extremely important to change them into categorical values."
      ]
    },
    {
      "cell_type": "code",
      "metadata": {
        "id": "vuVUEI7sgmOr",
        "colab_type": "code",
        "colab": {}
      },
      "source": [
        "y_train = to_categorical(y_train)\n",
        "y_val = to_categorical(y_val)"
      ],
      "execution_count": 10,
      "outputs": []
    },
    {
      "cell_type": "code",
      "metadata": {
        "id": "QwP6X279g1Ot",
        "colab_type": "code",
        "colab": {
          "base_uri": "https://localhost:8080/",
          "height": 34
        },
        "outputId": "f0588b72-c7dd-463d-eddf-a83df5a2cbef"
      },
      "source": [
        "y_train.shape, y_val.shape"
      ],
      "execution_count": 11,
      "outputs": [
        {
          "output_type": "execute_result",
          "data": {
            "text/plain": [
              "((8111, 7), (902, 7))"
            ]
          },
          "metadata": {
            "tags": []
          },
          "execution_count": 11
        }
      ]
    },
    {
      "cell_type": "markdown",
      "metadata": {
        "id": "PEiILK7sy1vN",
        "colab_type": "text"
      },
      "source": [
        "**LOADING** **THE** **ARCHITECTURE** **OF** **MOBILENET** **TO** **PERFORM** **TRANSFER** **LEARNING** **USING** **IMAGENET** **DATA**"
      ]
    },
    {
      "cell_type": "code",
      "metadata": {
        "id": "tyKevDW9g98D",
        "colab_type": "code",
        "colab": {
          "base_uri": "https://localhost:8080/",
          "height": 54
        },
        "outputId": "f5aa9281-776f-4acf-b99f-3c03db6c5966"
      },
      "source": [
        "base_model=MobileNet(weights='imagenet',include_top=False) #imports the mobilenet model and discards the last 1000 neuron layer."
      ],
      "execution_count": 12,
      "outputs": [
        {
          "output_type": "stream",
          "text": [
            "WARNING:tensorflow:`input_shape` is undefined or non-square, or `rows` is not in [128, 160, 192, 224]. Weights for input shape (224, 224) will be loaded as the default.\n"
          ],
          "name": "stdout"
        }
      ]
    },
    {
      "cell_type": "markdown",
      "metadata": {
        "id": "9CGbkTVf0U0H",
        "colab_type": "text"
      },
      "source": [
        "**NOTE** : From the above command, one can say that the input to the mobilenet model's pretrained model is imagenet which is passed as weights to the MobileNet model. "
      ]
    },
    {
      "cell_type": "markdown",
      "metadata": {
        "id": "-FlKZg8cig31",
        "colab_type": "text"
      },
      "source": [
        "**Printing** **all** **the** **layers** **present** **in** **the** **base_model**"
      ]
    },
    {
      "cell_type": "code",
      "metadata": {
        "id": "z7qfrez3aYHE",
        "colab_type": "code",
        "colab": {
          "base_uri": "https://localhost:8080/",
          "height": 238
        },
        "outputId": "384ab012-bd5d-45eb-b4b5-0609755ea483"
      },
      "source": [
        "for layer in base_model.layers:\n",
        "    print(layer.name)\n",
        "    if hasattr(layer, 'moving_mean') and hasattr(layer, 'moving_variance'):\n",
        "        layer.trainable = True\n",
        "        K.eval(K.update(layer.moving_mean, K.zeros_like(layer.moving_mean)))\n",
        "        K.eval(K.update(layer.moving_variance, K.zeros_like(layer.moving_variance)))\n",
        "    else:\n",
        "        layer.trainable = False\n",
        "\n",
        "print(len(base_model.layers))"
      ],
      "execution_count": 1,
      "outputs": [
        {
          "output_type": "error",
          "ename": "NameError",
          "evalue": "ignored",
          "traceback": [
            "\u001b[0;31m---------------------------------------------------------------------------\u001b[0m",
            "\u001b[0;31mNameError\u001b[0m                                 Traceback (most recent call last)",
            "\u001b[0;32m<ipython-input-1-6c9615f5c120>\u001b[0m in \u001b[0;36m<module>\u001b[0;34m()\u001b[0m\n\u001b[0;32m----> 1\u001b[0;31m \u001b[0;32mfor\u001b[0m \u001b[0mlayer\u001b[0m \u001b[0;32min\u001b[0m \u001b[0mbase_model\u001b[0m\u001b[0;34m.\u001b[0m\u001b[0mlayers\u001b[0m\u001b[0;34m:\u001b[0m\u001b[0;34m\u001b[0m\u001b[0;34m\u001b[0m\u001b[0m\n\u001b[0m\u001b[1;32m      2\u001b[0m     \u001b[0mprint\u001b[0m\u001b[0;34m(\u001b[0m\u001b[0mlayer\u001b[0m\u001b[0;34m.\u001b[0m\u001b[0mname\u001b[0m\u001b[0;34m)\u001b[0m\u001b[0;34m\u001b[0m\u001b[0;34m\u001b[0m\u001b[0m\n\u001b[1;32m      3\u001b[0m     \u001b[0;32mif\u001b[0m \u001b[0mhasattr\u001b[0m\u001b[0;34m(\u001b[0m\u001b[0mlayer\u001b[0m\u001b[0;34m,\u001b[0m \u001b[0;34m'moving_mean'\u001b[0m\u001b[0;34m)\u001b[0m \u001b[0;32mand\u001b[0m \u001b[0mhasattr\u001b[0m\u001b[0;34m(\u001b[0m\u001b[0mlayer\u001b[0m\u001b[0;34m,\u001b[0m \u001b[0;34m'moving_variance'\u001b[0m\u001b[0;34m)\u001b[0m\u001b[0;34m:\u001b[0m\u001b[0;34m\u001b[0m\u001b[0;34m\u001b[0m\u001b[0m\n\u001b[1;32m      4\u001b[0m         \u001b[0mlayer\u001b[0m\u001b[0;34m.\u001b[0m\u001b[0mtrainable\u001b[0m \u001b[0;34m=\u001b[0m \u001b[0;32mTrue\u001b[0m\u001b[0;34m\u001b[0m\u001b[0;34m\u001b[0m\u001b[0m\n\u001b[1;32m      5\u001b[0m         \u001b[0mK\u001b[0m\u001b[0;34m.\u001b[0m\u001b[0meval\u001b[0m\u001b[0;34m(\u001b[0m\u001b[0mK\u001b[0m\u001b[0;34m.\u001b[0m\u001b[0mupdate\u001b[0m\u001b[0;34m(\u001b[0m\u001b[0mlayer\u001b[0m\u001b[0;34m.\u001b[0m\u001b[0mmoving_mean\u001b[0m\u001b[0;34m,\u001b[0m \u001b[0mK\u001b[0m\u001b[0;34m.\u001b[0m\u001b[0mzeros_like\u001b[0m\u001b[0;34m(\u001b[0m\u001b[0mlayer\u001b[0m\u001b[0;34m.\u001b[0m\u001b[0mmoving_mean\u001b[0m\u001b[0;34m)\u001b[0m\u001b[0;34m)\u001b[0m\u001b[0;34m)\u001b[0m\u001b[0;34m\u001b[0m\u001b[0;34m\u001b[0m\u001b[0m\n",
            "\u001b[0;31mNameError\u001b[0m: name 'base_model' is not defined"
          ]
        }
      ]
    },
    {
      "cell_type": "markdown",
      "metadata": {
        "id": "PHnyjTq1qhZn",
        "colab_type": "text"
      },
      "source": [
        "One can see that there are a total of 87 rows/layers with \"conv_pw_13_relu\" being the last row of the stack."
      ]
    },
    {
      "cell_type": "code",
      "metadata": {
        "id": "z-jarnjiiKiP",
        "colab_type": "code",
        "colab": {
          "base_uri": "https://localhost:8080/",
          "height": 34
        },
        "outputId": "35e93d2d-2fa7-45b9-cb10-37de4b077fa9"
      },
      "source": [
        "last_layer = base_model.get_layer('conv_pw_13_relu')\n",
        "print('last layer output shape:', last_layer.output_shape)\n",
        "last_output = last_layer.output"
      ],
      "execution_count": 14,
      "outputs": [
        {
          "output_type": "stream",
          "text": [
            "last layer output shape: (None, None, None, 1024)\n"
          ],
          "name": "stdout"
        }
      ]
    },
    {
      "cell_type": "markdown",
      "metadata": {
        "id": "4xZqwGLr1omt",
        "colab_type": "text"
      },
      "source": [
        "### **MODEL** DEFINITION"
      ]
    },
    {
      "cell_type": "code",
      "metadata": {
        "id": "98EkMp37izNU",
        "colab_type": "code",
        "colab": {}
      },
      "source": [
        "x=base_model.output\n",
        "x=GlobalAveragePooling2D()(x)\n",
        "x=Dense(1024,activation='relu')(x) #we add dense layers so that the model can learn more complex functions and classify for better results.\n",
        "x=Dense(1024,activation='relu')(x) #dense layer 2\n",
        "x=Dense(512,activation='relu')(x) #dense layer 3\n",
        "preds=Dense(7,activation='softmax')(x) #final layer with softmax activation\n"
      ],
      "execution_count": 16,
      "outputs": []
    },
    {
      "cell_type": "code",
      "metadata": {
        "id": "1fAAnILHi0oE",
        "colab_type": "code",
        "colab": {}
      },
      "source": [
        "model=Model(inputs=base_model.input,outputs=preds)\n",
        "#specify the inputs\n",
        "#specify the outputs\n",
        "#now a model has been created based on our architecture"
      ],
      "execution_count": 17,
      "outputs": []
    },
    {
      "cell_type": "code",
      "metadata": {
        "id": "bdp-qm4qh3Yd",
        "colab_type": "code",
        "colab": {
          "base_uri": "https://localhost:8080/",
          "height": 1000
        },
        "outputId": "8f86e4d7-f739-4b1e-9495-59d5d2c6ef7d"
      },
      "source": [
        "model.summary()"
      ],
      "execution_count": 22,
      "outputs": [
        {
          "output_type": "stream",
          "text": [
            "Model: \"functional_1\"\n",
            "_________________________________________________________________\n",
            "Layer (type)                 Output Shape              Param #   \n",
            "=================================================================\n",
            "input_1 (InputLayer)         [(None, None, None, 3)]   0         \n",
            "_________________________________________________________________\n",
            "conv1_pad (ZeroPadding2D)    (None, None, None, 3)     0         \n",
            "_________________________________________________________________\n",
            "conv1 (Conv2D)               (None, None, None, 32)    864       \n",
            "_________________________________________________________________\n",
            "conv1_bn (BatchNormalization (None, None, None, 32)    128       \n",
            "_________________________________________________________________\n",
            "conv1_relu (ReLU)            (None, None, None, 32)    0         \n",
            "_________________________________________________________________\n",
            "conv_dw_1 (DepthwiseConv2D)  (None, None, None, 32)    288       \n",
            "_________________________________________________________________\n",
            "conv_dw_1_bn (BatchNormaliza (None, None, None, 32)    128       \n",
            "_________________________________________________________________\n",
            "conv_dw_1_relu (ReLU)        (None, None, None, 32)    0         \n",
            "_________________________________________________________________\n",
            "conv_pw_1 (Conv2D)           (None, None, None, 64)    2048      \n",
            "_________________________________________________________________\n",
            "conv_pw_1_bn (BatchNormaliza (None, None, None, 64)    256       \n",
            "_________________________________________________________________\n",
            "conv_pw_1_relu (ReLU)        (None, None, None, 64)    0         \n",
            "_________________________________________________________________\n",
            "conv_pad_2 (ZeroPadding2D)   (None, None, None, 64)    0         \n",
            "_________________________________________________________________\n",
            "conv_dw_2 (DepthwiseConv2D)  (None, None, None, 64)    576       \n",
            "_________________________________________________________________\n",
            "conv_dw_2_bn (BatchNormaliza (None, None, None, 64)    256       \n",
            "_________________________________________________________________\n",
            "conv_dw_2_relu (ReLU)        (None, None, None, 64)    0         \n",
            "_________________________________________________________________\n",
            "conv_pw_2 (Conv2D)           (None, None, None, 128)   8192      \n",
            "_________________________________________________________________\n",
            "conv_pw_2_bn (BatchNormaliza (None, None, None, 128)   512       \n",
            "_________________________________________________________________\n",
            "conv_pw_2_relu (ReLU)        (None, None, None, 128)   0         \n",
            "_________________________________________________________________\n",
            "conv_dw_3 (DepthwiseConv2D)  (None, None, None, 128)   1152      \n",
            "_________________________________________________________________\n",
            "conv_dw_3_bn (BatchNormaliza (None, None, None, 128)   512       \n",
            "_________________________________________________________________\n",
            "conv_dw_3_relu (ReLU)        (None, None, None, 128)   0         \n",
            "_________________________________________________________________\n",
            "conv_pw_3 (Conv2D)           (None, None, None, 128)   16384     \n",
            "_________________________________________________________________\n",
            "conv_pw_3_bn (BatchNormaliza (None, None, None, 128)   512       \n",
            "_________________________________________________________________\n",
            "conv_pw_3_relu (ReLU)        (None, None, None, 128)   0         \n",
            "_________________________________________________________________\n",
            "conv_pad_4 (ZeroPadding2D)   (None, None, None, 128)   0         \n",
            "_________________________________________________________________\n",
            "conv_dw_4 (DepthwiseConv2D)  (None, None, None, 128)   1152      \n",
            "_________________________________________________________________\n",
            "conv_dw_4_bn (BatchNormaliza (None, None, None, 128)   512       \n",
            "_________________________________________________________________\n",
            "conv_dw_4_relu (ReLU)        (None, None, None, 128)   0         \n",
            "_________________________________________________________________\n",
            "conv_pw_4 (Conv2D)           (None, None, None, 256)   32768     \n",
            "_________________________________________________________________\n",
            "conv_pw_4_bn (BatchNormaliza (None, None, None, 256)   1024      \n",
            "_________________________________________________________________\n",
            "conv_pw_4_relu (ReLU)        (None, None, None, 256)   0         \n",
            "_________________________________________________________________\n",
            "conv_dw_5 (DepthwiseConv2D)  (None, None, None, 256)   2304      \n",
            "_________________________________________________________________\n",
            "conv_dw_5_bn (BatchNormaliza (None, None, None, 256)   1024      \n",
            "_________________________________________________________________\n",
            "conv_dw_5_relu (ReLU)        (None, None, None, 256)   0         \n",
            "_________________________________________________________________\n",
            "conv_pw_5 (Conv2D)           (None, None, None, 256)   65536     \n",
            "_________________________________________________________________\n",
            "conv_pw_5_bn (BatchNormaliza (None, None, None, 256)   1024      \n",
            "_________________________________________________________________\n",
            "conv_pw_5_relu (ReLU)        (None, None, None, 256)   0         \n",
            "_________________________________________________________________\n",
            "conv_pad_6 (ZeroPadding2D)   (None, None, None, 256)   0         \n",
            "_________________________________________________________________\n",
            "conv_dw_6 (DepthwiseConv2D)  (None, None, None, 256)   2304      \n",
            "_________________________________________________________________\n",
            "conv_dw_6_bn (BatchNormaliza (None, None, None, 256)   1024      \n",
            "_________________________________________________________________\n",
            "conv_dw_6_relu (ReLU)        (None, None, None, 256)   0         \n",
            "_________________________________________________________________\n",
            "conv_pw_6 (Conv2D)           (None, None, None, 512)   131072    \n",
            "_________________________________________________________________\n",
            "conv_pw_6_bn (BatchNormaliza (None, None, None, 512)   2048      \n",
            "_________________________________________________________________\n",
            "conv_pw_6_relu (ReLU)        (None, None, None, 512)   0         \n",
            "_________________________________________________________________\n",
            "conv_dw_7 (DepthwiseConv2D)  (None, None, None, 512)   4608      \n",
            "_________________________________________________________________\n",
            "conv_dw_7_bn (BatchNormaliza (None, None, None, 512)   2048      \n",
            "_________________________________________________________________\n",
            "conv_dw_7_relu (ReLU)        (None, None, None, 512)   0         \n",
            "_________________________________________________________________\n",
            "conv_pw_7 (Conv2D)           (None, None, None, 512)   262144    \n",
            "_________________________________________________________________\n",
            "conv_pw_7_bn (BatchNormaliza (None, None, None, 512)   2048      \n",
            "_________________________________________________________________\n",
            "conv_pw_7_relu (ReLU)        (None, None, None, 512)   0         \n",
            "_________________________________________________________________\n",
            "conv_dw_8 (DepthwiseConv2D)  (None, None, None, 512)   4608      \n",
            "_________________________________________________________________\n",
            "conv_dw_8_bn (BatchNormaliza (None, None, None, 512)   2048      \n",
            "_________________________________________________________________\n",
            "conv_dw_8_relu (ReLU)        (None, None, None, 512)   0         \n",
            "_________________________________________________________________\n",
            "conv_pw_8 (Conv2D)           (None, None, None, 512)   262144    \n",
            "_________________________________________________________________\n",
            "conv_pw_8_bn (BatchNormaliza (None, None, None, 512)   2048      \n",
            "_________________________________________________________________\n",
            "conv_pw_8_relu (ReLU)        (None, None, None, 512)   0         \n",
            "_________________________________________________________________\n",
            "conv_dw_9 (DepthwiseConv2D)  (None, None, None, 512)   4608      \n",
            "_________________________________________________________________\n",
            "conv_dw_9_bn (BatchNormaliza (None, None, None, 512)   2048      \n",
            "_________________________________________________________________\n",
            "conv_dw_9_relu (ReLU)        (None, None, None, 512)   0         \n",
            "_________________________________________________________________\n",
            "conv_pw_9 (Conv2D)           (None, None, None, 512)   262144    \n",
            "_________________________________________________________________\n",
            "conv_pw_9_bn (BatchNormaliza (None, None, None, 512)   2048      \n",
            "_________________________________________________________________\n",
            "conv_pw_9_relu (ReLU)        (None, None, None, 512)   0         \n",
            "_________________________________________________________________\n",
            "conv_dw_10 (DepthwiseConv2D) (None, None, None, 512)   4608      \n",
            "_________________________________________________________________\n",
            "conv_dw_10_bn (BatchNormaliz (None, None, None, 512)   2048      \n",
            "_________________________________________________________________\n",
            "conv_dw_10_relu (ReLU)       (None, None, None, 512)   0         \n",
            "_________________________________________________________________\n",
            "conv_pw_10 (Conv2D)          (None, None, None, 512)   262144    \n",
            "_________________________________________________________________\n",
            "conv_pw_10_bn (BatchNormaliz (None, None, None, 512)   2048      \n",
            "_________________________________________________________________\n",
            "conv_pw_10_relu (ReLU)       (None, None, None, 512)   0         \n",
            "_________________________________________________________________\n",
            "conv_dw_11 (DepthwiseConv2D) (None, None, None, 512)   4608      \n",
            "_________________________________________________________________\n",
            "conv_dw_11_bn (BatchNormaliz (None, None, None, 512)   2048      \n",
            "_________________________________________________________________\n",
            "conv_dw_11_relu (ReLU)       (None, None, None, 512)   0         \n",
            "_________________________________________________________________\n",
            "conv_pw_11 (Conv2D)          (None, None, None, 512)   262144    \n",
            "_________________________________________________________________\n",
            "conv_pw_11_bn (BatchNormaliz (None, None, None, 512)   2048      \n",
            "_________________________________________________________________\n",
            "conv_pw_11_relu (ReLU)       (None, None, None, 512)   0         \n",
            "_________________________________________________________________\n",
            "conv_pad_12 (ZeroPadding2D)  (None, None, None, 512)   0         \n",
            "_________________________________________________________________\n",
            "conv_dw_12 (DepthwiseConv2D) (None, None, None, 512)   4608      \n",
            "_________________________________________________________________\n",
            "conv_dw_12_bn (BatchNormaliz (None, None, None, 512)   2048      \n",
            "_________________________________________________________________\n",
            "conv_dw_12_relu (ReLU)       (None, None, None, 512)   0         \n",
            "_________________________________________________________________\n",
            "conv_pw_12 (Conv2D)          (None, None, None, 1024)  524288    \n",
            "_________________________________________________________________\n",
            "conv_pw_12_bn (BatchNormaliz (None, None, None, 1024)  4096      \n",
            "_________________________________________________________________\n",
            "conv_pw_12_relu (ReLU)       (None, None, None, 1024)  0         \n",
            "_________________________________________________________________\n",
            "conv_dw_13 (DepthwiseConv2D) (None, None, None, 1024)  9216      \n",
            "_________________________________________________________________\n",
            "conv_dw_13_bn (BatchNormaliz (None, None, None, 1024)  4096      \n",
            "_________________________________________________________________\n",
            "conv_dw_13_relu (ReLU)       (None, None, None, 1024)  0         \n",
            "_________________________________________________________________\n",
            "conv_pw_13 (Conv2D)          (None, None, None, 1024)  1048576   \n",
            "_________________________________________________________________\n",
            "conv_pw_13_bn (BatchNormaliz (None, None, None, 1024)  4096      \n",
            "_________________________________________________________________\n",
            "conv_pw_13_relu (ReLU)       (None, None, None, 1024)  0         \n",
            "_________________________________________________________________\n",
            "global_average_pooling2d_1 ( (None, 1024)              0         \n",
            "_________________________________________________________________\n",
            "dense_4 (Dense)              (None, 1024)              1049600   \n",
            "_________________________________________________________________\n",
            "dense_5 (Dense)              (None, 1024)              1049600   \n",
            "_________________________________________________________________\n",
            "dense_6 (Dense)              (None, 512)               524800    \n",
            "_________________________________________________________________\n",
            "dense_7 (Dense)              (None, 7)                 3591      \n",
            "=================================================================\n",
            "Total params: 5,856,455\n",
            "Trainable params: 5,820,551\n",
            "Non-trainable params: 35,904\n",
            "_________________________________________________________________\n"
          ],
          "name": "stdout"
        }
      ]
    },
    {
      "cell_type": "markdown",
      "metadata": {
        "id": "bNp-n1RPvxGx",
        "colab_type": "text"
      },
      "source": [
        "**NOTE** : The above model summary shows the addition of the 5 layers that I have introduced in the new model over which our data will get trained in the future."
      ]
    },
    {
      "cell_type": "markdown",
      "metadata": {
        "id": "EaPC2b0E4ZwH",
        "colab_type": "text"
      },
      "source": [
        "From the summary, one can see that the total number of parameters is equal to 5,856,455 out of which the trainable features are 5820551 and the non trainable features are 35904."
      ]
    },
    {
      "cell_type": "code",
      "metadata": {
        "id": "V40HH7w8i7xT",
        "colab_type": "code",
        "colab": {}
      },
      "source": [
        " for layer in model.layers[:20]:\n",
        "    layer.trainable=False\n",
        "for layer in model.layers[20:]:\n",
        "    layer.trainable=True"
      ],
      "execution_count": 18,
      "outputs": []
    },
    {
      "cell_type": "markdown",
      "metadata": {
        "id": "Ri3adZZ51T3c",
        "colab_type": "text"
      },
      "source": [
        "### **Feature** **Extraction**"
      ]
    },
    {
      "cell_type": "code",
      "metadata": {
        "id": "5yq2Wfh9i_dN",
        "colab_type": "code",
        "colab": {}
      },
      "source": [
        "train_datagen = ImageDataGenerator(rotation_range=60, width_shift_range=0.2, height_shift_range=0.2,\n",
        "                                   shear_range=0.2, zoom_range=0.2, fill_mode='nearest')\n",
        "\n",
        "train_datagen.fit(X_train)\n",
        "\n",
        "val_datagen = ImageDataGenerator()\n",
        "val_datagen.fit(X_val)"
      ],
      "execution_count": 19,
      "outputs": []
    },
    {
      "cell_type": "markdown",
      "metadata": {
        "id": "_z4q7fkc8exQ",
        "colab_type": "text"
      },
      "source": [
        "**MODEL** **COMPILATION**"
      ]
    },
    {
      "cell_type": "code",
      "metadata": {
        "id": "DZDOzjNsjfs7",
        "colab_type": "code",
        "colab": {}
      },
      "source": [
        "model.compile(optimizer='Adam',loss='categorical_crossentropy',metrics=['accuracy'])\n",
        "# Adam optimizer\n",
        "# loss function will be categorical cross entropy\n",
        "# evaluation metric will be accuracy"
      ],
      "execution_count": 20,
      "outputs": []
    },
    {
      "cell_type": "markdown",
      "metadata": {
        "id": "DIfMgbE3_EGk",
        "colab_type": "text"
      },
      "source": [
        "**TRAINING** **THE** **MODEL**\n",
        "\n",
        "Here I'm considering the batch_size and epochs as 32 and 10 respectively."
      ]
    },
    {
      "cell_type": "code",
      "metadata": {
        "id": "CdUeb5YjjP46",
        "colab_type": "code",
        "colab": {
          "base_uri": "https://localhost:8080/",
          "height": 445
        },
        "outputId": "c5b167de-beb5-4b2f-d59d-44eda6bf4fb4"
      },
      "source": [
        "batch_size = 32\n",
        "epochs = 10\n",
        "history = model.fit_generator(train_datagen.flow(X_train,y_train, batch_size=batch_size),\n",
        "                              epochs = epochs, validation_data = val_datagen.flow(X_val, y_val),\n",
        "                              verbose = 1, steps_per_epoch=(X_train.shape[0] // batch_size), \n",
        "                              validation_steps=(X_val.shape[0] // batch_size))\n"
      ],
      "execution_count": 21,
      "outputs": [
        {
          "output_type": "stream",
          "text": [
            "WARNING:tensorflow:From <ipython-input-21-036f55bcbdf1>:6: Model.fit_generator (from tensorflow.python.keras.engine.training) is deprecated and will be removed in a future version.\n",
            "Instructions for updating:\n",
            "Please use Model.fit, which supports generators.\n",
            "Epoch 1/10\n",
            "253/253 [==============================] - 1189s 5s/step - loss: 0.9710 - accuracy: 0.6691 - val_loss: 1.3405 - val_accuracy: 0.5759\n",
            "Epoch 2/10\n",
            "253/253 [==============================] - 1196s 5s/step - loss: 0.8801 - accuracy: 0.6815 - val_loss: 1.0947 - val_accuracy: 0.6629\n",
            "Epoch 3/10\n",
            "253/253 [==============================] - 1208s 5s/step - loss: 0.8512 - accuracy: 0.6901 - val_loss: 0.9311 - val_accuracy: 0.6708\n",
            "Epoch 4/10\n",
            "253/253 [==============================] - 1195s 5s/step - loss: 0.8256 - accuracy: 0.6948 - val_loss: 0.9775 - val_accuracy: 0.6507\n",
            "Epoch 5/10\n",
            "253/253 [==============================] - 1174s 5s/step - loss: 0.7961 - accuracy: 0.7096 - val_loss: 0.9255 - val_accuracy: 0.6283\n",
            "Epoch 6/10\n",
            "253/253 [==============================] - 1169s 5s/step - loss: 0.7754 - accuracy: 0.7210 - val_loss: 1.3368 - val_accuracy: 0.6975\n",
            "Epoch 7/10\n",
            "253/253 [==============================] - 1167s 5s/step - loss: 0.7613 - accuracy: 0.7190 - val_loss: 0.8343 - val_accuracy: 0.6942\n",
            "Epoch 8/10\n",
            "253/253 [==============================] - 1164s 5s/step - loss: 0.7692 - accuracy: 0.7179 - val_loss: 0.9648 - val_accuracy: 0.6920\n",
            "Epoch 9/10\n",
            "253/253 [==============================] - 1164s 5s/step - loss: 0.7462 - accuracy: 0.7329 - val_loss: 0.8036 - val_accuracy: 0.7154\n",
            "Epoch 10/10\n",
            "253/253 [==============================] - 1168s 5s/step - loss: 0.7393 - accuracy: 0.7365 - val_loss: 0.9746 - val_accuracy: 0.6853\n"
          ],
          "name": "stdout"
        }
      ]
    },
    {
      "cell_type": "markdown",
      "metadata": {
        "id": "SFlKhC5ISHKm",
        "colab_type": "text"
      },
      "source": [
        "**NOTE** : One can see from the above training epochs that the model achieved a maximum training accuracy of 73.65% at an epoch value of 10, hence one can say that the model is performing well but it can be improved by fine tuning the model accuracy further."
      ]
    },
    {
      "cell_type": "markdown",
      "metadata": {
        "id": "hWO6-rryWCRS",
        "colab_type": "text"
      },
      "source": [
        "**FINE** **TUNING** **THE** **MODEL**\n",
        "\n",
        "In order to fine tune the model, we will consider a single layer of the model and try to predict the results on the testing and validation inputs. Here I'm considering layer 81 to fine tune my model further."
      ]
    },
    {
      "cell_type": "markdown",
      "metadata": {
        "id": "rbNa9rpT2feZ",
        "colab_type": "text"
      },
      "source": [
        "NOTE : WHEN ONLY A SINGLE LAYER OF THE MODEL IS CONSIDERED, THEN THE NUMBER OF EPOCHS CAN BE CALCULATED AS \"NUMBER OF PRETRAINED MODEL LAYERS INTO CONSIDERATION\"*\"TOTAL NUMBER OF ORIGINAL MODEL LAYERS\""
      ]
    },
    {
      "cell_type": "code",
      "metadata": {
        "id": "WrP8AcYiSeDQ",
        "colab_type": "code",
        "colab": {
          "base_uri": "https://localhost:8080/",
          "height": 35
        },
        "outputId": "0c2d3779-8e64-48b6-f678-11f8d91b8dfc"
      },
      "source": [
        "base_model.layers[81].name"
      ],
      "execution_count": 23,
      "outputs": [
        {
          "output_type": "execute_result",
          "data": {
            "application/vnd.google.colaboratory.intrinsic+json": {
              "type": "string"
            },
            "text/plain": [
              "'conv_dw_13'"
            ]
          },
          "metadata": {
            "tags": []
          },
          "execution_count": 23
        }
      ]
    },
    {
      "cell_type": "code",
      "metadata": {
        "id": "iRgi7sSha801",
        "colab_type": "code",
        "colab": {}
      },
      "source": [
        "for layer in base_model.layers[81:]:\n",
        "    layer.trainable = True"
      ],
      "execution_count": 24,
      "outputs": []
    },
    {
      "cell_type": "code",
      "metadata": {
        "id": "CmW5xOwbhKdY",
        "colab_type": "code",
        "colab": {}
      },
      "source": [
        "optimizer = Adam(lr=0.0001, beta_1=0.9, beta_2=0.999, epsilon=None, decay=0.0, amsgrad=False)\n",
        "model.compile(loss='categorical_crossentropy',\n",
        "              optimizer=optimizer,\n",
        "              metrics=['acc'])"
      ],
      "execution_count": 25,
      "outputs": []
    },
    {
      "cell_type": "code",
      "metadata": {
        "id": "OmDwt76FhXGB",
        "colab_type": "code",
        "colab": {}
      },
      "source": [
        "from keras.callbacks import ReduceLROnPlateau"
      ],
      "execution_count": 26,
      "outputs": []
    },
    {
      "cell_type": "markdown",
      "metadata": {
        "id": "XqW1_5igSfSZ",
        "colab_type": "text"
      },
      "source": [
        "**NOTE** : Reducing the learning rate when the training is not improving even after multiple epochs is extremely important as it produces redundant results if there are a large number of epoch values. In order to do this, the keras library gives the option of a function named \"ReduceLROnPlateau\", hence the patience parameter determines where this function will create a check point during training."
      ]
    },
    {
      "cell_type": "code",
      "metadata": {
        "id": "f-QEh5MYhQlV",
        "colab_type": "code",
        "colab": {}
      },
      "source": [
        "learning_rate_reduction = ReduceLROnPlateau(monitor='val_acc', patience=3, verbose=1, factor=0.5, \n",
        "                                            min_lr=0.000001, cooldown=2)"
      ],
      "execution_count": 27,
      "outputs": []
    },
    {
      "cell_type": "code",
      "metadata": {
        "id": "yYdNw2dShuQF",
        "colab_type": "code",
        "colab": {
          "base_uri": "https://localhost:8080/",
          "height": 1000
        },
        "outputId": "b86c455c-65e3-44dc-cb7c-3ebdb1bc9a8e"
      },
      "source": [
        "model.summary()"
      ],
      "execution_count": 28,
      "outputs": [
        {
          "output_type": "stream",
          "text": [
            "Model: \"functional_1\"\n",
            "_________________________________________________________________\n",
            "Layer (type)                 Output Shape              Param #   \n",
            "=================================================================\n",
            "input_1 (InputLayer)         [(None, None, None, 3)]   0         \n",
            "_________________________________________________________________\n",
            "conv1_pad (ZeroPadding2D)    (None, None, None, 3)     0         \n",
            "_________________________________________________________________\n",
            "conv1 (Conv2D)               (None, None, None, 32)    864       \n",
            "_________________________________________________________________\n",
            "conv1_bn (BatchNormalization (None, None, None, 32)    128       \n",
            "_________________________________________________________________\n",
            "conv1_relu (ReLU)            (None, None, None, 32)    0         \n",
            "_________________________________________________________________\n",
            "conv_dw_1 (DepthwiseConv2D)  (None, None, None, 32)    288       \n",
            "_________________________________________________________________\n",
            "conv_dw_1_bn (BatchNormaliza (None, None, None, 32)    128       \n",
            "_________________________________________________________________\n",
            "conv_dw_1_relu (ReLU)        (None, None, None, 32)    0         \n",
            "_________________________________________________________________\n",
            "conv_pw_1 (Conv2D)           (None, None, None, 64)    2048      \n",
            "_________________________________________________________________\n",
            "conv_pw_1_bn (BatchNormaliza (None, None, None, 64)    256       \n",
            "_________________________________________________________________\n",
            "conv_pw_1_relu (ReLU)        (None, None, None, 64)    0         \n",
            "_________________________________________________________________\n",
            "conv_pad_2 (ZeroPadding2D)   (None, None, None, 64)    0         \n",
            "_________________________________________________________________\n",
            "conv_dw_2 (DepthwiseConv2D)  (None, None, None, 64)    576       \n",
            "_________________________________________________________________\n",
            "conv_dw_2_bn (BatchNormaliza (None, None, None, 64)    256       \n",
            "_________________________________________________________________\n",
            "conv_dw_2_relu (ReLU)        (None, None, None, 64)    0         \n",
            "_________________________________________________________________\n",
            "conv_pw_2 (Conv2D)           (None, None, None, 128)   8192      \n",
            "_________________________________________________________________\n",
            "conv_pw_2_bn (BatchNormaliza (None, None, None, 128)   512       \n",
            "_________________________________________________________________\n",
            "conv_pw_2_relu (ReLU)        (None, None, None, 128)   0         \n",
            "_________________________________________________________________\n",
            "conv_dw_3 (DepthwiseConv2D)  (None, None, None, 128)   1152      \n",
            "_________________________________________________________________\n",
            "conv_dw_3_bn (BatchNormaliza (None, None, None, 128)   512       \n",
            "_________________________________________________________________\n",
            "conv_dw_3_relu (ReLU)        (None, None, None, 128)   0         \n",
            "_________________________________________________________________\n",
            "conv_pw_3 (Conv2D)           (None, None, None, 128)   16384     \n",
            "_________________________________________________________________\n",
            "conv_pw_3_bn (BatchNormaliza (None, None, None, 128)   512       \n",
            "_________________________________________________________________\n",
            "conv_pw_3_relu (ReLU)        (None, None, None, 128)   0         \n",
            "_________________________________________________________________\n",
            "conv_pad_4 (ZeroPadding2D)   (None, None, None, 128)   0         \n",
            "_________________________________________________________________\n",
            "conv_dw_4 (DepthwiseConv2D)  (None, None, None, 128)   1152      \n",
            "_________________________________________________________________\n",
            "conv_dw_4_bn (BatchNormaliza (None, None, None, 128)   512       \n",
            "_________________________________________________________________\n",
            "conv_dw_4_relu (ReLU)        (None, None, None, 128)   0         \n",
            "_________________________________________________________________\n",
            "conv_pw_4 (Conv2D)           (None, None, None, 256)   32768     \n",
            "_________________________________________________________________\n",
            "conv_pw_4_bn (BatchNormaliza (None, None, None, 256)   1024      \n",
            "_________________________________________________________________\n",
            "conv_pw_4_relu (ReLU)        (None, None, None, 256)   0         \n",
            "_________________________________________________________________\n",
            "conv_dw_5 (DepthwiseConv2D)  (None, None, None, 256)   2304      \n",
            "_________________________________________________________________\n",
            "conv_dw_5_bn (BatchNormaliza (None, None, None, 256)   1024      \n",
            "_________________________________________________________________\n",
            "conv_dw_5_relu (ReLU)        (None, None, None, 256)   0         \n",
            "_________________________________________________________________\n",
            "conv_pw_5 (Conv2D)           (None, None, None, 256)   65536     \n",
            "_________________________________________________________________\n",
            "conv_pw_5_bn (BatchNormaliza (None, None, None, 256)   1024      \n",
            "_________________________________________________________________\n",
            "conv_pw_5_relu (ReLU)        (None, None, None, 256)   0         \n",
            "_________________________________________________________________\n",
            "conv_pad_6 (ZeroPadding2D)   (None, None, None, 256)   0         \n",
            "_________________________________________________________________\n",
            "conv_dw_6 (DepthwiseConv2D)  (None, None, None, 256)   2304      \n",
            "_________________________________________________________________\n",
            "conv_dw_6_bn (BatchNormaliza (None, None, None, 256)   1024      \n",
            "_________________________________________________________________\n",
            "conv_dw_6_relu (ReLU)        (None, None, None, 256)   0         \n",
            "_________________________________________________________________\n",
            "conv_pw_6 (Conv2D)           (None, None, None, 512)   131072    \n",
            "_________________________________________________________________\n",
            "conv_pw_6_bn (BatchNormaliza (None, None, None, 512)   2048      \n",
            "_________________________________________________________________\n",
            "conv_pw_6_relu (ReLU)        (None, None, None, 512)   0         \n",
            "_________________________________________________________________\n",
            "conv_dw_7 (DepthwiseConv2D)  (None, None, None, 512)   4608      \n",
            "_________________________________________________________________\n",
            "conv_dw_7_bn (BatchNormaliza (None, None, None, 512)   2048      \n",
            "_________________________________________________________________\n",
            "conv_dw_7_relu (ReLU)        (None, None, None, 512)   0         \n",
            "_________________________________________________________________\n",
            "conv_pw_7 (Conv2D)           (None, None, None, 512)   262144    \n",
            "_________________________________________________________________\n",
            "conv_pw_7_bn (BatchNormaliza (None, None, None, 512)   2048      \n",
            "_________________________________________________________________\n",
            "conv_pw_7_relu (ReLU)        (None, None, None, 512)   0         \n",
            "_________________________________________________________________\n",
            "conv_dw_8 (DepthwiseConv2D)  (None, None, None, 512)   4608      \n",
            "_________________________________________________________________\n",
            "conv_dw_8_bn (BatchNormaliza (None, None, None, 512)   2048      \n",
            "_________________________________________________________________\n",
            "conv_dw_8_relu (ReLU)        (None, None, None, 512)   0         \n",
            "_________________________________________________________________\n",
            "conv_pw_8 (Conv2D)           (None, None, None, 512)   262144    \n",
            "_________________________________________________________________\n",
            "conv_pw_8_bn (BatchNormaliza (None, None, None, 512)   2048      \n",
            "_________________________________________________________________\n",
            "conv_pw_8_relu (ReLU)        (None, None, None, 512)   0         \n",
            "_________________________________________________________________\n",
            "conv_dw_9 (DepthwiseConv2D)  (None, None, None, 512)   4608      \n",
            "_________________________________________________________________\n",
            "conv_dw_9_bn (BatchNormaliza (None, None, None, 512)   2048      \n",
            "_________________________________________________________________\n",
            "conv_dw_9_relu (ReLU)        (None, None, None, 512)   0         \n",
            "_________________________________________________________________\n",
            "conv_pw_9 (Conv2D)           (None, None, None, 512)   262144    \n",
            "_________________________________________________________________\n",
            "conv_pw_9_bn (BatchNormaliza (None, None, None, 512)   2048      \n",
            "_________________________________________________________________\n",
            "conv_pw_9_relu (ReLU)        (None, None, None, 512)   0         \n",
            "_________________________________________________________________\n",
            "conv_dw_10 (DepthwiseConv2D) (None, None, None, 512)   4608      \n",
            "_________________________________________________________________\n",
            "conv_dw_10_bn (BatchNormaliz (None, None, None, 512)   2048      \n",
            "_________________________________________________________________\n",
            "conv_dw_10_relu (ReLU)       (None, None, None, 512)   0         \n",
            "_________________________________________________________________\n",
            "conv_pw_10 (Conv2D)          (None, None, None, 512)   262144    \n",
            "_________________________________________________________________\n",
            "conv_pw_10_bn (BatchNormaliz (None, None, None, 512)   2048      \n",
            "_________________________________________________________________\n",
            "conv_pw_10_relu (ReLU)       (None, None, None, 512)   0         \n",
            "_________________________________________________________________\n",
            "conv_dw_11 (DepthwiseConv2D) (None, None, None, 512)   4608      \n",
            "_________________________________________________________________\n",
            "conv_dw_11_bn (BatchNormaliz (None, None, None, 512)   2048      \n",
            "_________________________________________________________________\n",
            "conv_dw_11_relu (ReLU)       (None, None, None, 512)   0         \n",
            "_________________________________________________________________\n",
            "conv_pw_11 (Conv2D)          (None, None, None, 512)   262144    \n",
            "_________________________________________________________________\n",
            "conv_pw_11_bn (BatchNormaliz (None, None, None, 512)   2048      \n",
            "_________________________________________________________________\n",
            "conv_pw_11_relu (ReLU)       (None, None, None, 512)   0         \n",
            "_________________________________________________________________\n",
            "conv_pad_12 (ZeroPadding2D)  (None, None, None, 512)   0         \n",
            "_________________________________________________________________\n",
            "conv_dw_12 (DepthwiseConv2D) (None, None, None, 512)   4608      \n",
            "_________________________________________________________________\n",
            "conv_dw_12_bn (BatchNormaliz (None, None, None, 512)   2048      \n",
            "_________________________________________________________________\n",
            "conv_dw_12_relu (ReLU)       (None, None, None, 512)   0         \n",
            "_________________________________________________________________\n",
            "conv_pw_12 (Conv2D)          (None, None, None, 1024)  524288    \n",
            "_________________________________________________________________\n",
            "conv_pw_12_bn (BatchNormaliz (None, None, None, 1024)  4096      \n",
            "_________________________________________________________________\n",
            "conv_pw_12_relu (ReLU)       (None, None, None, 1024)  0         \n",
            "_________________________________________________________________\n",
            "conv_dw_13 (DepthwiseConv2D) (None, None, None, 1024)  9216      \n",
            "_________________________________________________________________\n",
            "conv_dw_13_bn (BatchNormaliz (None, None, None, 1024)  4096      \n",
            "_________________________________________________________________\n",
            "conv_dw_13_relu (ReLU)       (None, None, None, 1024)  0         \n",
            "_________________________________________________________________\n",
            "conv_pw_13 (Conv2D)          (None, None, None, 1024)  1048576   \n",
            "_________________________________________________________________\n",
            "conv_pw_13_bn (BatchNormaliz (None, None, None, 1024)  4096      \n",
            "_________________________________________________________________\n",
            "conv_pw_13_relu (ReLU)       (None, None, None, 1024)  0         \n",
            "_________________________________________________________________\n",
            "global_average_pooling2d_1 ( (None, 1024)              0         \n",
            "_________________________________________________________________\n",
            "dense_4 (Dense)              (None, 1024)              1049600   \n",
            "_________________________________________________________________\n",
            "dense_5 (Dense)              (None, 1024)              1049600   \n",
            "_________________________________________________________________\n",
            "dense_6 (Dense)              (None, 512)               524800    \n",
            "_________________________________________________________________\n",
            "dense_7 (Dense)              (None, 7)                 3591      \n",
            "=================================================================\n",
            "Total params: 5,856,455\n",
            "Trainable params: 5,820,551\n",
            "Non-trainable params: 35,904\n",
            "_________________________________________________________________\n"
          ],
          "name": "stdout"
        }
      ]
    },
    {
      "cell_type": "markdown",
      "metadata": {
        "id": "km6e9aX2IMpK",
        "colab_type": "text"
      },
      "source": [
        "**NOTE** : Now from the above observation, we can say that the total number of parameters are 5856455, trainable parameters are 5820551 and the non trainable parameters are 35904."
      ]
    },
    {
      "cell_type": "markdown",
      "metadata": {
        "id": "jooLi8OZjJjB",
        "colab_type": "text"
      },
      "source": [
        "Since I'm fine tuning the model, I have increased the epoch value to 15 and kept the batch size same."
      ]
    },
    {
      "cell_type": "code",
      "metadata": {
        "id": "ia6VlcVPicGh",
        "colab_type": "code",
        "colab": {
          "base_uri": "https://localhost:8080/",
          "height": 585
        },
        "outputId": "b088abd3-00ff-402f-a4d8-16ed5d9c7330"
      },
      "source": [
        "batch_size = 32\n",
        "epochs = 15\n",
        "history = model.fit_generator(train_datagen.flow(X_train,y_train, batch_size=batch_size),\n",
        "                              epochs = epochs, validation_data = val_datagen.flow(X_val, y_val),\n",
        "                                      verbose = 1, steps_per_epoch=(X_train.shape[0] // batch_size),\n",
        "                              validation_steps=(X_val.shape[0] // batch_size),\n",
        "          \n",
        "                              callbacks=[learning_rate_reduction])"
      ],
      "execution_count": 29,
      "outputs": [
        {
          "output_type": "stream",
          "text": [
            "Epoch 1/15\n",
            "253/253 [==============================] - 1175s 5s/step - loss: 0.6604 - acc: 0.7635 - val_loss: 0.7730 - val_acc: 0.7143\n",
            "Epoch 2/15\n",
            "253/253 [==============================] - 1197s 5s/step - loss: 0.6464 - acc: 0.7619 - val_loss: 0.7582 - val_acc: 0.7199\n",
            "Epoch 3/15\n",
            "253/253 [==============================] - 1193s 5s/step - loss: 0.6377 - acc: 0.7620 - val_loss: 0.7608 - val_acc: 0.7254\n",
            "Epoch 4/15\n",
            "253/253 [==============================] - 1203s 5s/step - loss: 0.6323 - acc: 0.7724 - val_loss: 0.7577 - val_acc: 0.7266\n",
            "Epoch 5/15\n",
            "253/253 [==============================] - 1199s 5s/step - loss: 0.6344 - acc: 0.7622 - val_loss: 0.7564 - val_acc: 0.7355\n",
            "Epoch 6/15\n",
            "253/253 [==============================] - 1196s 5s/step - loss: 0.6152 - acc: 0.7713 - val_loss: 0.7665 - val_acc: 0.7333\n",
            "Epoch 7/15\n",
            "253/253 [==============================] - 1188s 5s/step - loss: 0.6104 - acc: 0.7766 - val_loss: 0.7658 - val_acc: 0.7344\n",
            "Epoch 8/15\n",
            "253/253 [==============================] - 1180s 5s/step - loss: 0.6166 - acc: 0.7716 - val_loss: 0.7521 - val_acc: 0.7522\n",
            "Epoch 9/15\n",
            "253/253 [==============================] - 1181s 5s/step - loss: 0.6023 - acc: 0.7810 - val_loss: 0.7917 - val_acc: 0.7299\n",
            "Epoch 10/15\n",
            "253/253 [==============================] - 1185s 5s/step - loss: 0.5963 - acc: 0.7784 - val_loss: 0.7567 - val_acc: 0.7500\n",
            "Epoch 11/15\n",
            "253/253 [==============================] - ETA: 0s - loss: 0.5876 - acc: 0.7828\n",
            "Epoch 00011: ReduceLROnPlateau reducing learning rate to 4.999999873689376e-05.\n",
            "253/253 [==============================] - 1186s 5s/step - loss: 0.5876 - acc: 0.7828 - val_loss: 0.7548 - val_acc: 0.7388\n",
            "Epoch 12/15\n",
            "253/253 [==============================] - 1176s 5s/step - loss: 0.5847 - acc: 0.7823 - val_loss: 0.7420 - val_acc: 0.7455\n",
            "Epoch 13/15\n",
            "253/253 [==============================] - 1166s 5s/step - loss: 0.5775 - acc: 0.7851 - val_loss: 0.7359 - val_acc: 0.7511\n",
            "Epoch 14/15\n",
            "253/253 [==============================] - 1156s 5s/step - loss: 0.5750 - acc: 0.7893 - val_loss: 0.7262 - val_acc: 0.7533\n",
            "Epoch 15/15\n",
            "253/253 [==============================] - 1159s 5s/step - loss: 0.5740 - acc: 0.7906 - val_loss: 0.7295 - val_acc: 0.7522\n"
          ],
          "name": "stdout"
        }
      ]
    },
    {
      "cell_type": "markdown",
      "metadata": {
        "id": "67D3pjJER93n",
        "colab_type": "text"
      },
      "source": [
        "**NOTE** : After fine tuning the model, one can notice that the training set accuracy is equal to 79.06% which is higher than the validation set accuracy when the model was not fine tuned."
      ]
    },
    {
      "cell_type": "code",
      "metadata": {
        "id": "F9rCIGO7ONOB",
        "colab_type": "code",
        "colab": {
          "base_uri": "https://localhost:8080/",
          "height": 34
        },
        "outputId": "13456c96-e723-4f2f-ddba-763743590673"
      },
      "source": [
        "loss_val, acc_val = model.evaluate(X_val, y_val, verbose=1)\n"
      ],
      "execution_count": 30,
      "outputs": [
        {
          "output_type": "stream",
          "text": [
            "29/29 [==============================] - 32s 1s/step - loss: 0.7347 - acc: 0.7506\n"
          ],
          "name": "stdout"
        }
      ]
    },
    {
      "cell_type": "code",
      "metadata": {
        "id": "DH7g4MtAElSE",
        "colab_type": "code",
        "colab": {
          "base_uri": "https://localhost:8080/",
          "height": 34
        },
        "outputId": "0a743323-cb1e-45cb-b726-23c39b857b32"
      },
      "source": [
        "\n",
        "print(\"Validation: accuracy = %f  ;  loss_v = %f\" % (acc_val, loss_val))\n"
      ],
      "execution_count": 31,
      "outputs": [
        {
          "output_type": "stream",
          "text": [
            "Validation: accuracy = 0.750554  ;  loss_v = 0.734652\n"
          ],
          "name": "stdout"
        }
      ]
    },
    {
      "cell_type": "markdown",
      "metadata": {
        "id": "BxC2y8czTH4G",
        "colab_type": "text"
      },
      "source": [
        "**NOTE** : Validation set accuracy is equal to 75.06% which is good enough."
      ]
    },
    {
      "cell_type": "markdown",
      "metadata": {
        "id": "fdBGpEaKY84m",
        "colab_type": "text"
      },
      "source": [
        "#### **TESTING** **THE** **MODEL**"
      ]
    },
    {
      "cell_type": "markdown",
      "metadata": {
        "id": "KjiYd4A_B-eo",
        "colab_type": "text"
      },
      "source": [
        "Loading the already split test data into X_test"
      ]
    },
    {
      "cell_type": "code",
      "metadata": {
        "id": "AzkzOEiKT1uf",
        "colab_type": "code",
        "colab": {}
      },
      "source": [
        "X_test = np.load(\"/content/drive/My Drive/256_192_test (1).npy\")"
      ],
      "execution_count": 39,
      "outputs": []
    },
    {
      "cell_type": "code",
      "metadata": {
        "id": "e0AYjDTMbbW6",
        "colab_type": "code",
        "colab": {
          "base_uri": "https://localhost:8080/",
          "height": 34
        },
        "outputId": "17d33063-b76f-4e03-dd28-517bf48ebaf4"
      },
      "source": [
        "X_test.shape"
      ],
      "execution_count": 40,
      "outputs": [
        {
          "output_type": "execute_result",
          "data": {
            "text/plain": [
              "(1002, 192, 256, 3)"
            ]
          },
          "metadata": {
            "tags": []
          },
          "execution_count": 40
        }
      ]
    },
    {
      "cell_type": "markdown",
      "metadata": {
        "id": "8S26ugDXIqZF",
        "colab_type": "text"
      },
      "source": [
        "Since the test data is also image data hence, the shape of the testing data comes in the form of a 4D array."
      ]
    },
    {
      "cell_type": "code",
      "metadata": {
        "id": "x-hM5K_4aEfA",
        "colab_type": "code",
        "colab": {}
      },
      "source": [
        " y_test = np.load(\"/content/drive/My Drive/test_labels.npy\")\n",
        "y_test = to_categorical(y_test)"
      ],
      "execution_count": 41,
      "outputs": []
    },
    {
      "cell_type": "code",
      "metadata": {
        "id": "GrnbhtCJa8EA",
        "colab_type": "code",
        "colab": {
          "base_uri": "https://localhost:8080/",
          "height": 34
        },
        "outputId": "b87d0a7d-f3e0-492b-8623-d84468148a90"
      },
      "source": [
        "X_test.shape,y_test.shape"
      ],
      "execution_count": 42,
      "outputs": [
        {
          "output_type": "execute_result",
          "data": {
            "text/plain": [
              "((1002, 192, 256, 3), (1002, 7))"
            ]
          },
          "metadata": {
            "tags": []
          },
          "execution_count": 42
        }
      ]
    },
    {
      "cell_type": "code",
      "metadata": {
        "id": "1TRYYQ6ybNHs",
        "colab_type": "code",
        "colab": {
          "base_uri": "https://localhost:8080/",
          "height": 52
        },
        "outputId": "7b7d800c-7e1b-4b69-9dff-efbba2c96f22"
      },
      "source": [
        "loss_test, acc_test = model.evaluate(X_test, y_test, verbose=1)\n",
        "print(\"Test: accuracy = %f  ;  loss = %f\" % (acc_test, loss_test))"
      ],
      "execution_count": 43,
      "outputs": [
        {
          "output_type": "stream",
          "text": [
            "32/32 [==============================] - 35s 1s/step - loss: 0.6929 - acc: 0.7405\n",
            "Test: accuracy = 0.740519  ;  loss = 0.692921\n"
          ],
          "name": "stdout"
        }
      ]
    },
    {
      "cell_type": "markdown",
      "metadata": {
        "id": "fGf7yUFMsh-X",
        "colab_type": "text"
      },
      "source": [
        "NOTE : The model got the test set accuracy as 74.0519% which is lesser than the training set and validation set which is supposed to be considered a good thing as the model did not actually run on the test set and the accuracy is supposed to be lesser than both training as well as validation set accuracy."
      ]
    },
    {
      "cell_type": "code",
      "metadata": {
        "id": "cpLu6yFtcXzG",
        "colab_type": "code",
        "colab": {}
      },
      "source": [
        "model.save(\"MobileNet.h5\")"
      ],
      "execution_count": 44,
      "outputs": []
    },
    {
      "cell_type": "code",
      "metadata": {
        "id": "8-F_Hkskc3gG",
        "colab_type": "code",
        "colab": {
          "base_uri": "https://localhost:8080/",
          "height": 562
        },
        "outputId": "9c3c5cfe-7cca-4051-8a3f-e6c762f446f9"
      },
      "source": [
        "# Retrieve a list of accuracy results on training and test data\n",
        "# sets for each training epoch\n",
        "acc = history.history['acc']\n",
        "val_acc = history.history['val_acc']\n",
        "\n",
        "# Retrieve a list of list results on training and test data\n",
        "# sets for each training epoch\n",
        "loss = history.history['loss']\n",
        "val_loss = history.history['val_loss']\n",
        "\n",
        "# Get number of epochs\n",
        "epochs = range(len(acc))\n",
        "\n",
        "# Plot training and validation accuracy per epoch\n",
        "plt.plot(epochs, acc, label = \"training\")\n",
        "plt.plot(epochs, val_acc, label = \"validation\")\n",
        "plt.legend(loc=\"upper left\")\n",
        "plt.title('Training and validation accuracy')\n",
        "\n",
        "plt.figure()\n",
        "\n",
        "# Plot training and validation loss per epoch\n",
        "plt.plot(epochs, loss, label = \"training\")\n",
        "plt.plot(epochs, val_loss, label = \"validation\")\n",
        "plt.legend(loc=\"upper right\")\n",
        "plt.title('Training and validation loss')"
      ],
      "execution_count": 45,
      "outputs": [
        {
          "output_type": "execute_result",
          "data": {
            "text/plain": [
              "Text(0.5, 1.0, 'Training and validation loss')"
            ]
          },
          "metadata": {
            "tags": []
          },
          "execution_count": 45
        },
        {
          "output_type": "display_data",
          "data": {
            "image/png": "[encoded data removed]",
            "text/plain": [
              "<Figure size 432x288 with 1 Axes>"
            ]
          },
          "metadata": {
            "tags": [],
            "needs_background": "light"
          }
        },
        {
          "output_type": "display_data",
          "data": {
            "image/png": "[encoded data removed]",
            "text/plain": [
              "<Figure size 432x288 with 1 Axes>"
            ]
          },
          "metadata": {
            "tags": [],
            "needs_background": "light"
          }
        }
      ]
    },
    {
      "cell_type": "markdown",
      "metadata": {
        "id": "7kOV1QTur5IX",
        "colab_type": "text"
      },
      "source": [
        "**CONCLUSION** : According to the above plots, one can see that the training set accuracy is higher than the validation set accuracy while it is vice versa for their respective losses.\n",
        "\n",
        "As well as it was noticed that the test set accuracy was lower than both the training set accuracy as well as the validation set accuracy.\n",
        "\n",
        "Fine tuning the model increased the accuracy of the model from almost 73% to 79%."
      ]
    },
    {
      "cell_type": "markdown",
      "metadata": {
        "id": "0r6WYy2gLk5B",
        "colab_type": "text"
      },
      "source": [
        "**CONTRIBUTIONS** : \n",
        "\n",
        "Code by self ---- 50%\n",
        "\n",
        "Code referred ---- 50%"
      ]
    },
    {
      "cell_type": "markdown",
      "metadata": {
        "id": "U10u1G7oL5_o",
        "colab_type": "text"
      },
      "source": [
        "**CITATIONS** :\n",
        "\n",
        "SKIN CANCER MNIST DATASET KAGGLE: https://www.kaggle.com/kmader/skin-cancer-mnist-ham10000\n",
        "\n",
        "OVERVIEW OF IMAGE CLASSIFICATION USING CNN: https://analyticsindiamag.com/deep-learning-image-classification-with-cnn-an-overview/\n",
        "\n",
        "IMAGE CLASSIFICATION USING MOBILENET MEDIUM: https://medium.com/analytics-vidhya/image-classification-using-mobilenet-in-the-browser-b69f2f57abf"
      ]
    },
    {
      "cell_type": "markdown",
      "metadata": {
        "id": "xP40HfmhMmI-",
        "colab_type": "text"
      },
      "source": [
        "**LICENSE**\n",
        "\n",
        "Copyright 2019 Ria Rajput\n",
        "\n",
        "Permission is hereby granted, free of charge, to any person obtaining a copy of this software and associated documentation files (the \"Software\"), to deal in the Software without restriction, including without limitation the rights to use, copy, modify, merge, publish, distribute, sublicense, and/or sell copies of the Software, and to permit persons to whom the Software is furnished to do so, subject to the following conditions: The above copyright notice and this permission notice shall be included in all copies or substantial portions of the Software. THE SOFTWARE IS PROVIDED \"AS IS\", WITHOUT WARRANTY OF ANY KIND, EXPRESS OR IMPLIED, INCLUDING BUT NOT LIMITED TO THE WARRANTIES OF MERCHANTABILITY, FITNESS FOR A PARTICULAR PURPOSE AND NONINFRINGEMENT. IN NO EVENT SHALL THE AUTHORS OR COPYRIGHT HOLDERS BE LIABLE FOR ANY CLAIM, DAMAGES OR OTHER LIABILITY, WHETHER IN AN ACTION OF CONTRACT, TORT OR OTHERWISE, ARISING FROM, OUT OF OR IN CONNECTION WITH THE SOFTWARE OR THE USE OR OTHER DEALINGS IN THE SOFTWARE."
      ]
    },
    {
      "cell_type": "code",
      "metadata": {
        "id": "xnxnO5d7seBn",
        "colab_type": "code",
        "colab": {}
      },
      "source": [
        ""
      ],
      "execution_count": null,
      "outputs": []
    }
  ]
}