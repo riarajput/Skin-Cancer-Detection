{
  "nbformat": 4,
  "nbformat_minor": 0,
  "metadata": {
    "colab": {
      "name": "Data_Modelling.ipynb",
      "provenance": [],
      "collapsed_sections": [],
      "toc_visible": true
    },
    "kernelspec": {
      "name": "python3",
      "display_name": "Python 3"
    }
  },
  "cells": [
    {
      "cell_type": "markdown",
      "metadata": {
        "id": "n5nAwpo6Okni",
        "colab_type": "text"
      },
      "source": [
        "#### **IMPORTANT** : **THE** **ORIGINAL** **DATASET** \"**SKIN** **CANCER** **MNIST** : **HAM10000**\" **HAS** **BEEN** **PREPROCESSED** **ALREADY** **IN** **THE** **JUPYTER** **NOTEBOOK** \"**SKIN_CANCER_MNIST_HAM10000_EDA_DATAPREPROCESSING**.**ipynb**\". \n",
        "\n",
        "##### **THE** **CSV** **FILE** **GENERATION** **OF** \"**hmist_64_64_RGB**.**csv**\" **WAS** **AN** **IMPORTANT** **STEP** **IN** **THE** **ABOVE** **MENTIONED** **JUPYTER**. **THIS** **CSV** **FILE** **CONTAINS** **THE** **RESHAPED** **PIXEL** **VALUES** **OF** **THE** **ORIGINAL** **DATASET**.\n"
      ]
    },
    {
      "cell_type": "markdown",
      "metadata": {
        "id": "Q67fEqE3RSki",
        "colab_type": "text"
      },
      "source": [
        "**ABSTARCT** : To build a simple CNN model by the technique of sequential modelling by the means of keras library.\n",
        "\n",
        "To perform hyperparameter tuning by creating a kerasclassifier and by using the scikit learn library function of GridSearchCV"
      ]
    },
    {
      "cell_type": "markdown",
      "metadata": {
        "id": "ShKltHkKtsnG",
        "colab_type": "text"
      },
      "source": [
        "### **MODEL** **BUILDING** **AND** **VERIFICATION**"
      ]
    },
    {
      "cell_type": "code",
      "metadata": {
        "id": "KoNauLrTmXX8",
        "colab_type": "code",
        "colab": {}
      },
      "source": [
        "# importing all the important libraries for model building \n",
        "# I will be using the keras library in order to build my first iteration of the CNN model\n",
        "\n",
        "import numpy as np\n",
        "import pandas as pd\n",
        "from sklearn.model_selection import train_test_split\n",
        "from keras.utils.np_utils import to_categorical # convert to one-hot-encoding\n",
        "\n",
        "from keras.preprocessing.image import ImageDataGenerator\n",
        "from keras.layers import Conv2D \n",
        "from keras.models import Sequential\n",
        "from keras.layers import MaxPool2D\n",
        "from keras.layers import Dense\n",
        "from keras.optimizers import Adam\n",
        "from keras.callbacks import ReduceLROnPlateau\n",
        "from keras.layers import Flatten\n",
        "from keras.layers import Dropout\n",
        "from keras.utils import plot_model\n",
        "\n"
      ],
      "execution_count": 8,
      "outputs": []
    },
    {
      "cell_type": "markdown",
      "metadata": {
        "id": "OV39-Ss3n7_I",
        "colab_type": "text"
      },
      "source": [
        "#### **LOADING** **THE** **DATA**"
      ]
    },
    {
      "cell_type": "markdown",
      "metadata": {
        "id": "L0Nk7FhAtLwX",
        "colab_type": "text"
      },
      "source": [
        "#### **NOTE**: **I** **will** **be** **uploading** **the** **resized** **image** **dataset** (**64x64x3**) **for** **building** **the** **baseline** **Convolutional** **Neural** **Network** **model**."
      ]
    },
    {
      "cell_type": "code",
      "metadata": {
        "id": "I7NZtEacn0-z",
        "colab_type": "code",
        "colab": {
          "resources": {
            "http://localhost:8080/nbextensions/google.colab/files.js": {
              "data": "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",
              "ok": true,
              "headers": [
                [
                  "content-type",
                  "application/javascript"
                ]
              ],
              "status": 200,
              "status_text": ""
            }
          },
          "base_uri": "https://localhost:8080/",
          "height": 69
        },
        "outputId": "9a893f16-9317-4b0b-8a1d-4b4997225d0c"
      },
      "source": [
        " from google.colab import files \n",
        "  \n",
        "  \n",
        "uploaded = files.upload()"
      ],
      "execution_count": 7,
      "outputs": [
        {
          "output_type": "display_data",
          "data": {
            "text/html": [
              "\n",
              "     <input type=\"file\" id=\"files-0dff8d28-4b49-444d-89ef-955a5c5aa690\" name=\"files[]\" multiple disabled\n",
              "        style=\"border:none\" />\n",
              "     <output id=\"result-0dff8d28-4b49-444d-89ef-955a5c5aa690\">\n",
              "      Upload widget is only available when the cell has been executed in the\n",
              "      current browser session. Please rerun this cell to enable.\n",
              "      </output>\n",
              "      <script src=\"/nbextensions/google.colab/files.js\"></script> "
            ],
            "text/plain": [
              "<IPython.core.display.HTML object>"
            ]
          },
          "metadata": {
            "tags": []
          }
        },
        {
          "output_type": "stream",
          "text": [
            "Saving hmnist_64_64_RBG.csv to hmnist_64_64_RBG.csv\n"
          ],
          "name": "stdout"
        }
      ]
    },
    {
      "cell_type": "markdown",
      "metadata": {
        "id": "RpbXJzp9ZNat",
        "colab_type": "text"
      },
      "source": [
        "#### **LOADING** **THE** **DATA** **IN** **A** **PANDAS** **DATAFRAME**"
      ]
    },
    {
      "cell_type": "code",
      "metadata": {
        "id": "KWmQZTtcXgew",
        "colab_type": "code",
        "colab": {}
      },
      "source": [
        "cnn_df = pd.read_csv('/content/hmnist_64_64_RBG.csv')"
      ],
      "execution_count": 9,
      "outputs": []
    },
    {
      "cell_type": "code",
      "metadata": {
        "id": "SSNo2JpfZtVn",
        "colab_type": "code",
        "colab": {
          "base_uri": "https://localhost:8080/",
          "height": 246
        },
        "outputId": "ee6d9b6a-4e89-4756-d2b6-13ed7aaa5d23"
      },
      "source": [
        "cnn_df.head()"
      ],
      "execution_count": null,
      "outputs": [
        {
          "output_type": "execute_result",
          "data": {
            "text/html": [
              "<div>\n",
              "<style scoped>\n",
              "    .dataframe tbody tr th:only-of-type {\n",
              "        vertical-align: middle;\n",
              "    }\n",
              "\n",
              "    .dataframe tbody tr th {\n",
              "        vertical-align: top;\n",
              "    }\n",
              "\n",
              "    .dataframe thead th {\n",
              "        text-align: right;\n",
              "    }\n",
              "</style>\n",
              "<table border=\"1\" class=\"dataframe\">\n",
              "  <thead>\n",
              "    <tr style=\"text-align: right;\">\n",
              "      <th></th>\n",
              "      <th>0</th>\n",
              "      <th>1</th>\n",
              "      <th>2</th>\n",
              "      <th>3</th>\n",
              "      <th>4</th>\n",
              "      <th>5</th>\n",
              "      <th>6</th>\n",
              "      <th>7</th>\n",
              "      <th>8</th>\n",
              "      <th>9</th>\n",
              "      <th>10</th>\n",
              "      <th>11</th>\n",
              "      <th>12</th>\n",
              "      <th>13</th>\n",
              "      <th>14</th>\n",
              "      <th>15</th>\n",
              "      <th>16</th>\n",
              "      <th>17</th>\n",
              "      <th>18</th>\n",
              "      <th>19</th>\n",
              "      <th>20</th>\n",
              "      <th>21</th>\n",
              "      <th>22</th>\n",
              "      <th>23</th>\n",
              "      <th>24</th>\n",
              "      <th>25</th>\n",
              "      <th>26</th>\n",
              "      <th>27</th>\n",
              "      <th>28</th>\n",
              "      <th>29</th>\n",
              "      <th>30</th>\n",
              "      <th>31</th>\n",
              "      <th>32</th>\n",
              "      <th>33</th>\n",
              "      <th>34</th>\n",
              "      <th>35</th>\n",
              "      <th>36</th>\n",
              "      <th>37</th>\n",
              "      <th>38</th>\n",
              "      <th>39</th>\n",
              "      <th>...</th>\n",
              "      <th>12249</th>\n",
              "      <th>12250</th>\n",
              "      <th>12251</th>\n",
              "      <th>12252</th>\n",
              "      <th>12253</th>\n",
              "      <th>12254</th>\n",
              "      <th>12255</th>\n",
              "      <th>12256</th>\n",
              "      <th>12257</th>\n",
              "      <th>12258</th>\n",
              "      <th>12259</th>\n",
              "      <th>12260</th>\n",
              "      <th>12261</th>\n",
              "      <th>12262</th>\n",
              "      <th>12263</th>\n",
              "      <th>12264</th>\n",
              "      <th>12265</th>\n",
              "      <th>12266</th>\n",
              "      <th>12267</th>\n",
              "      <th>12268</th>\n",
              "      <th>12269</th>\n",
              "      <th>12270</th>\n",
              "      <th>12271</th>\n",
              "      <th>12272</th>\n",
              "      <th>12273</th>\n",
              "      <th>12274</th>\n",
              "      <th>12275</th>\n",
              "      <th>12276</th>\n",
              "      <th>12277</th>\n",
              "      <th>12278</th>\n",
              "      <th>12279</th>\n",
              "      <th>12280</th>\n",
              "      <th>12281</th>\n",
              "      <th>12282</th>\n",
              "      <th>12283</th>\n",
              "      <th>12284</th>\n",
              "      <th>12285</th>\n",
              "      <th>12286</th>\n",
              "      <th>12287</th>\n",
              "      <th>label</th>\n",
              "    </tr>\n",
              "  </thead>\n",
              "  <tbody>\n",
              "    <tr>\n",
              "      <th>0</th>\n",
              "      <td>191</td>\n",
              "      <td>152</td>\n",
              "      <td>194</td>\n",
              "      <td>191</td>\n",
              "      <td>153</td>\n",
              "      <td>195</td>\n",
              "      <td>192</td>\n",
              "      <td>149</td>\n",
              "      <td>192</td>\n",
              "      <td>194</td>\n",
              "      <td>151</td>\n",
              "      <td>188</td>\n",
              "      <td>193</td>\n",
              "      <td>149</td>\n",
              "      <td>182</td>\n",
              "      <td>193</td>\n",
              "      <td>150</td>\n",
              "      <td>181</td>\n",
              "      <td>195</td>\n",
              "      <td>154</td>\n",
              "      <td>185</td>\n",
              "      <td>195</td>\n",
              "      <td>156</td>\n",
              "      <td>189</td>\n",
              "      <td>203</td>\n",
              "      <td>164</td>\n",
              "      <td>196</td>\n",
              "      <td>206</td>\n",
              "      <td>166</td>\n",
              "      <td>203</td>\n",
              "      <td>209</td>\n",
              "      <td>165</td>\n",
              "      <td>201</td>\n",
              "      <td>211</td>\n",
              "      <td>166</td>\n",
              "      <td>206</td>\n",
              "      <td>209</td>\n",
              "      <td>165</td>\n",
              "      <td>206</td>\n",
              "      <td>203</td>\n",
              "      <td>...</td>\n",
              "      <td>202</td>\n",
              "      <td>167</td>\n",
              "      <td>183</td>\n",
              "      <td>199</td>\n",
              "      <td>159</td>\n",
              "      <td>175</td>\n",
              "      <td>189</td>\n",
              "      <td>141</td>\n",
              "      <td>148</td>\n",
              "      <td>184</td>\n",
              "      <td>131</td>\n",
              "      <td>136</td>\n",
              "      <td>180</td>\n",
              "      <td>128</td>\n",
              "      <td>136</td>\n",
              "      <td>179</td>\n",
              "      <td>127</td>\n",
              "      <td>141</td>\n",
              "      <td>176</td>\n",
              "      <td>129</td>\n",
              "      <td>149</td>\n",
              "      <td>175</td>\n",
              "      <td>127</td>\n",
              "      <td>145</td>\n",
              "      <td>179</td>\n",
              "      <td>136</td>\n",
              "      <td>157</td>\n",
              "      <td>182</td>\n",
              "      <td>146</td>\n",
              "      <td>164</td>\n",
              "      <td>185</td>\n",
              "      <td>154</td>\n",
              "      <td>180</td>\n",
              "      <td>186</td>\n",
              "      <td>156</td>\n",
              "      <td>184</td>\n",
              "      <td>182</td>\n",
              "      <td>152</td>\n",
              "      <td>173</td>\n",
              "      <td>2</td>\n",
              "    </tr>\n",
              "    <tr>\n",
              "      <th>1</th>\n",
              "      <td>24</td>\n",
              "      <td>13</td>\n",
              "      <td>23</td>\n",
              "      <td>24</td>\n",
              "      <td>14</td>\n",
              "      <td>28</td>\n",
              "      <td>37</td>\n",
              "      <td>24</td>\n",
              "      <td>46</td>\n",
              "      <td>61</td>\n",
              "      <td>44</td>\n",
              "      <td>70</td>\n",
              "      <td>90</td>\n",
              "      <td>66</td>\n",
              "      <td>97</td>\n",
              "      <td>111</td>\n",
              "      <td>83</td>\n",
              "      <td>118</td>\n",
              "      <td>127</td>\n",
              "      <td>98</td>\n",
              "      <td>129</td>\n",
              "      <td>144</td>\n",
              "      <td>112</td>\n",
              "      <td>141</td>\n",
              "      <td>161</td>\n",
              "      <td>131</td>\n",
              "      <td>159</td>\n",
              "      <td>169</td>\n",
              "      <td>138</td>\n",
              "      <td>165</td>\n",
              "      <td>171</td>\n",
              "      <td>135</td>\n",
              "      <td>159</td>\n",
              "      <td>173</td>\n",
              "      <td>135</td>\n",
              "      <td>156</td>\n",
              "      <td>178</td>\n",
              "      <td>138</td>\n",
              "      <td>164</td>\n",
              "      <td>178</td>\n",
              "      <td>...</td>\n",
              "      <td>176</td>\n",
              "      <td>132</td>\n",
              "      <td>147</td>\n",
              "      <td>163</td>\n",
              "      <td>121</td>\n",
              "      <td>129</td>\n",
              "      <td>143</td>\n",
              "      <td>96</td>\n",
              "      <td>96</td>\n",
              "      <td>129</td>\n",
              "      <td>89</td>\n",
              "      <td>90</td>\n",
              "      <td>111</td>\n",
              "      <td>76</td>\n",
              "      <td>74</td>\n",
              "      <td>92</td>\n",
              "      <td>60</td>\n",
              "      <td>64</td>\n",
              "      <td>69</td>\n",
              "      <td>46</td>\n",
              "      <td>56</td>\n",
              "      <td>44</td>\n",
              "      <td>27</td>\n",
              "      <td>43</td>\n",
              "      <td>30</td>\n",
              "      <td>16</td>\n",
              "      <td>34</td>\n",
              "      <td>27</td>\n",
              "      <td>14</td>\n",
              "      <td>30</td>\n",
              "      <td>26</td>\n",
              "      <td>15</td>\n",
              "      <td>29</td>\n",
              "      <td>27</td>\n",
              "      <td>15</td>\n",
              "      <td>28</td>\n",
              "      <td>24</td>\n",
              "      <td>13</td>\n",
              "      <td>25</td>\n",
              "      <td>2</td>\n",
              "    </tr>\n",
              "    <tr>\n",
              "      <th>2</th>\n",
              "      <td>185</td>\n",
              "      <td>129</td>\n",
              "      <td>140</td>\n",
              "      <td>192</td>\n",
              "      <td>136</td>\n",
              "      <td>151</td>\n",
              "      <td>198</td>\n",
              "      <td>142</td>\n",
              "      <td>156</td>\n",
              "      <td>198</td>\n",
              "      <td>140</td>\n",
              "      <td>154</td>\n",
              "      <td>199</td>\n",
              "      <td>141</td>\n",
              "      <td>158</td>\n",
              "      <td>199</td>\n",
              "      <td>141</td>\n",
              "      <td>159</td>\n",
              "      <td>205</td>\n",
              "      <td>147</td>\n",
              "      <td>162</td>\n",
              "      <td>205</td>\n",
              "      <td>151</td>\n",
              "      <td>167</td>\n",
              "      <td>208</td>\n",
              "      <td>154</td>\n",
              "      <td>171</td>\n",
              "      <td>207</td>\n",
              "      <td>147</td>\n",
              "      <td>161</td>\n",
              "      <td>204</td>\n",
              "      <td>146</td>\n",
              "      <td>153</td>\n",
              "      <td>207</td>\n",
              "      <td>154</td>\n",
              "      <td>161</td>\n",
              "      <td>209</td>\n",
              "      <td>156</td>\n",
              "      <td>163</td>\n",
              "      <td>210</td>\n",
              "      <td>...</td>\n",
              "      <td>199</td>\n",
              "      <td>156</td>\n",
              "      <td>175</td>\n",
              "      <td>190</td>\n",
              "      <td>147</td>\n",
              "      <td>171</td>\n",
              "      <td>194</td>\n",
              "      <td>154</td>\n",
              "      <td>183</td>\n",
              "      <td>197</td>\n",
              "      <td>152</td>\n",
              "      <td>172</td>\n",
              "      <td>175</td>\n",
              "      <td>129</td>\n",
              "      <td>140</td>\n",
              "      <td>160</td>\n",
              "      <td>117</td>\n",
              "      <td>132</td>\n",
              "      <td>163</td>\n",
              "      <td>127</td>\n",
              "      <td>141</td>\n",
              "      <td>161</td>\n",
              "      <td>128</td>\n",
              "      <td>140</td>\n",
              "      <td>161</td>\n",
              "      <td>128</td>\n",
              "      <td>144</td>\n",
              "      <td>155</td>\n",
              "      <td>122</td>\n",
              "      <td>139</td>\n",
              "      <td>152</td>\n",
              "      <td>120</td>\n",
              "      <td>138</td>\n",
              "      <td>144</td>\n",
              "      <td>113</td>\n",
              "      <td>123</td>\n",
              "      <td>115</td>\n",
              "      <td>81</td>\n",
              "      <td>84</td>\n",
              "      <td>2</td>\n",
              "    </tr>\n",
              "    <tr>\n",
              "      <th>3</th>\n",
              "      <td>24</td>\n",
              "      <td>11</td>\n",
              "      <td>19</td>\n",
              "      <td>36</td>\n",
              "      <td>19</td>\n",
              "      <td>30</td>\n",
              "      <td>64</td>\n",
              "      <td>38</td>\n",
              "      <td>50</td>\n",
              "      <td>91</td>\n",
              "      <td>60</td>\n",
              "      <td>71</td>\n",
              "      <td>111</td>\n",
              "      <td>71</td>\n",
              "      <td>87</td>\n",
              "      <td>130</td>\n",
              "      <td>91</td>\n",
              "      <td>106</td>\n",
              "      <td>150</td>\n",
              "      <td>114</td>\n",
              "      <td>129</td>\n",
              "      <td>160</td>\n",
              "      <td>116</td>\n",
              "      <td>124</td>\n",
              "      <td>167</td>\n",
              "      <td>110</td>\n",
              "      <td>111</td>\n",
              "      <td>168</td>\n",
              "      <td>100</td>\n",
              "      <td>101</td>\n",
              "      <td>176</td>\n",
              "      <td>110</td>\n",
              "      <td>116</td>\n",
              "      <td>184</td>\n",
              "      <td>131</td>\n",
              "      <td>144</td>\n",
              "      <td>191</td>\n",
              "      <td>141</td>\n",
              "      <td>152</td>\n",
              "      <td>191</td>\n",
              "      <td>...</td>\n",
              "      <td>154</td>\n",
              "      <td>124</td>\n",
              "      <td>138</td>\n",
              "      <td>143</td>\n",
              "      <td>111</td>\n",
              "      <td>126</td>\n",
              "      <td>129</td>\n",
              "      <td>100</td>\n",
              "      <td>111</td>\n",
              "      <td>102</td>\n",
              "      <td>74</td>\n",
              "      <td>80</td>\n",
              "      <td>94</td>\n",
              "      <td>73</td>\n",
              "      <td>86</td>\n",
              "      <td>74</td>\n",
              "      <td>47</td>\n",
              "      <td>61</td>\n",
              "      <td>52</td>\n",
              "      <td>32</td>\n",
              "      <td>45</td>\n",
              "      <td>33</td>\n",
              "      <td>17</td>\n",
              "      <td>25</td>\n",
              "      <td>28</td>\n",
              "      <td>13</td>\n",
              "      <td>19</td>\n",
              "      <td>27</td>\n",
              "      <td>13</td>\n",
              "      <td>17</td>\n",
              "      <td>27</td>\n",
              "      <td>13</td>\n",
              "      <td>16</td>\n",
              "      <td>25</td>\n",
              "      <td>12</td>\n",
              "      <td>16</td>\n",
              "      <td>24</td>\n",
              "      <td>9</td>\n",
              "      <td>14</td>\n",
              "      <td>2</td>\n",
              "    </tr>\n",
              "    <tr>\n",
              "      <th>4</th>\n",
              "      <td>138</td>\n",
              "      <td>94</td>\n",
              "      <td>117</td>\n",
              "      <td>158</td>\n",
              "      <td>113</td>\n",
              "      <td>138</td>\n",
              "      <td>178</td>\n",
              "      <td>133</td>\n",
              "      <td>161</td>\n",
              "      <td>191</td>\n",
              "      <td>143</td>\n",
              "      <td>172</td>\n",
              "      <td>202</td>\n",
              "      <td>150</td>\n",
              "      <td>173</td>\n",
              "      <td>212</td>\n",
              "      <td>160</td>\n",
              "      <td>185</td>\n",
              "      <td>216</td>\n",
              "      <td>162</td>\n",
              "      <td>191</td>\n",
              "      <td>222</td>\n",
              "      <td>175</td>\n",
              "      <td>209</td>\n",
              "      <td>227</td>\n",
              "      <td>183</td>\n",
              "      <td>219</td>\n",
              "      <td>229</td>\n",
              "      <td>183</td>\n",
              "      <td>216</td>\n",
              "      <td>232</td>\n",
              "      <td>188</td>\n",
              "      <td>221</td>\n",
              "      <td>234</td>\n",
              "      <td>193</td>\n",
              "      <td>222</td>\n",
              "      <td>234</td>\n",
              "      <td>191</td>\n",
              "      <td>218</td>\n",
              "      <td>235</td>\n",
              "      <td>...</td>\n",
              "      <td>221</td>\n",
              "      <td>169</td>\n",
              "      <td>202</td>\n",
              "      <td>226</td>\n",
              "      <td>167</td>\n",
              "      <td>201</td>\n",
              "      <td>226</td>\n",
              "      <td>164</td>\n",
              "      <td>197</td>\n",
              "      <td>224</td>\n",
              "      <td>176</td>\n",
              "      <td>203</td>\n",
              "      <td>224</td>\n",
              "      <td>178</td>\n",
              "      <td>206</td>\n",
              "      <td>222</td>\n",
              "      <td>181</td>\n",
              "      <td>206</td>\n",
              "      <td>213</td>\n",
              "      <td>170</td>\n",
              "      <td>191</td>\n",
              "      <td>200</td>\n",
              "      <td>155</td>\n",
              "      <td>177</td>\n",
              "      <td>187</td>\n",
              "      <td>148</td>\n",
              "      <td>164</td>\n",
              "      <td>164</td>\n",
              "      <td>128</td>\n",
              "      <td>140</td>\n",
              "      <td>140</td>\n",
              "      <td>106</td>\n",
              "      <td>118</td>\n",
              "      <td>108</td>\n",
              "      <td>77</td>\n",
              "      <td>92</td>\n",
              "      <td>67</td>\n",
              "      <td>40</td>\n",
              "      <td>55</td>\n",
              "      <td>2</td>\n",
              "    </tr>\n",
              "  </tbody>\n",
              "</table>\n",
              "<p>5 rows × 12289 columns</p>\n",
              "</div>"
            ],
            "text/plain": [
              "     0    1    2    3    4    5  ...  12283  12284  12285  12286  12287  label\n",
              "0  191  152  194  191  153  195  ...    156    184    182    152    173      2\n",
              "1   24   13   23   24   14   28  ...     15     28     24     13     25      2\n",
              "2  185  129  140  192  136  151  ...    113    123    115     81     84      2\n",
              "3   24   11   19   36   19   30  ...     12     16     24      9     14      2\n",
              "4  138   94  117  158  113  138  ...     77     92     67     40     55      2\n",
              "\n",
              "[5 rows x 12289 columns]"
            ]
          },
          "metadata": {
            "tags": []
          },
          "execution_count": 5
        }
      ]
    },
    {
      "cell_type": "code",
      "metadata": {
        "id": "cy5gjCxM65Wk",
        "colab_type": "code",
        "colab": {
          "base_uri": "https://localhost:8080/",
          "height": 34
        },
        "outputId": "86d0a8fc-d870-4c25-d0ad-d14e38bb0e3d"
      },
      "source": [
        "# Checking the shape of the dataset\n",
        "cnn_df.shape"
      ],
      "execution_count": 10,
      "outputs": [
        {
          "output_type": "execute_result",
          "data": {
            "text/plain": [
              "(10015, 12289)"
            ]
          },
          "metadata": {
            "tags": []
          },
          "execution_count": 10
        }
      ]
    },
    {
      "cell_type": "markdown",
      "metadata": {
        "id": "wbQZ6TXd7A6V",
        "colab_type": "text"
      },
      "source": [
        "**NOTE** : It has a total of 10015 rows and 12289 columns in the dataset. This rows and columns are nothing but the pixel values of every resized image in the dataset."
      ]
    },
    {
      "cell_type": "markdown",
      "metadata": {
        "id": "IdwGaGwVaCDZ",
        "colab_type": "text"
      },
      "source": [
        "#### **Dropping** **the** **column** \"**label**\"."
      ]
    },
    {
      "cell_type": "code",
      "metadata": {
        "id": "hVl_YDXoZ35t",
        "colab_type": "code",
        "colab": {}
      },
      "source": [
        "# Dropping the 'label' column and then converting the dataframe into an array value\n",
        "cnn_drop = cnn_df.drop(\"label\", axis=1)\n"
      ],
      "execution_count": 11,
      "outputs": []
    },
    {
      "cell_type": "code",
      "metadata": {
        "id": "b5NjSta_9iQq",
        "colab_type": "code",
        "colab": {
          "base_uri": "https://localhost:8080/",
          "height": 253
        },
        "outputId": "2fbc351f-a99e-40ea-c425-d5b3460377ad"
      },
      "source": [
        "cnn_drop.head()"
      ],
      "execution_count": 12,
      "outputs": [
        {
          "output_type": "execute_result",
          "data": {
            "text/html": [
              "<div>\n",
              "<style scoped>\n",
              "    .dataframe tbody tr th:only-of-type {\n",
              "        vertical-align: middle;\n",
              "    }\n",
              "\n",
              "    .dataframe tbody tr th {\n",
              "        vertical-align: top;\n",
              "    }\n",
              "\n",
              "    .dataframe thead th {\n",
              "        text-align: right;\n",
              "    }\n",
              "</style>\n",
              "<table border=\"1\" class=\"dataframe\">\n",
              "  <thead>\n",
              "    <tr style=\"text-align: right;\">\n",
              "      <th></th>\n",
              "      <th>0</th>\n",
              "      <th>1</th>\n",
              "      <th>2</th>\n",
              "      <th>3</th>\n",
              "      <th>4</th>\n",
              "      <th>5</th>\n",
              "      <th>6</th>\n",
              "      <th>7</th>\n",
              "      <th>8</th>\n",
              "      <th>9</th>\n",
              "      <th>10</th>\n",
              "      <th>11</th>\n",
              "      <th>12</th>\n",
              "      <th>13</th>\n",
              "      <th>14</th>\n",
              "      <th>15</th>\n",
              "      <th>16</th>\n",
              "      <th>17</th>\n",
              "      <th>18</th>\n",
              "      <th>19</th>\n",
              "      <th>20</th>\n",
              "      <th>21</th>\n",
              "      <th>22</th>\n",
              "      <th>23</th>\n",
              "      <th>24</th>\n",
              "      <th>25</th>\n",
              "      <th>26</th>\n",
              "      <th>27</th>\n",
              "      <th>28</th>\n",
              "      <th>29</th>\n",
              "      <th>30</th>\n",
              "      <th>31</th>\n",
              "      <th>32</th>\n",
              "      <th>33</th>\n",
              "      <th>34</th>\n",
              "      <th>35</th>\n",
              "      <th>36</th>\n",
              "      <th>37</th>\n",
              "      <th>38</th>\n",
              "      <th>39</th>\n",
              "      <th>...</th>\n",
              "      <th>12248</th>\n",
              "      <th>12249</th>\n",
              "      <th>12250</th>\n",
              "      <th>12251</th>\n",
              "      <th>12252</th>\n",
              "      <th>12253</th>\n",
              "      <th>12254</th>\n",
              "      <th>12255</th>\n",
              "      <th>12256</th>\n",
              "      <th>12257</th>\n",
              "      <th>12258</th>\n",
              "      <th>12259</th>\n",
              "      <th>12260</th>\n",
              "      <th>12261</th>\n",
              "      <th>12262</th>\n",
              "      <th>12263</th>\n",
              "      <th>12264</th>\n",
              "      <th>12265</th>\n",
              "      <th>12266</th>\n",
              "      <th>12267</th>\n",
              "      <th>12268</th>\n",
              "      <th>12269</th>\n",
              "      <th>12270</th>\n",
              "      <th>12271</th>\n",
              "      <th>12272</th>\n",
              "      <th>12273</th>\n",
              "      <th>12274</th>\n",
              "      <th>12275</th>\n",
              "      <th>12276</th>\n",
              "      <th>12277</th>\n",
              "      <th>12278</th>\n",
              "      <th>12279</th>\n",
              "      <th>12280</th>\n",
              "      <th>12281</th>\n",
              "      <th>12282</th>\n",
              "      <th>12283</th>\n",
              "      <th>12284</th>\n",
              "      <th>12285</th>\n",
              "      <th>12286</th>\n",
              "      <th>12287</th>\n",
              "    </tr>\n",
              "  </thead>\n",
              "  <tbody>\n",
              "    <tr>\n",
              "      <th>0</th>\n",
              "      <td>191</td>\n",
              "      <td>152</td>\n",
              "      <td>194</td>\n",
              "      <td>191</td>\n",
              "      <td>153</td>\n",
              "      <td>195</td>\n",
              "      <td>192</td>\n",
              "      <td>149</td>\n",
              "      <td>192</td>\n",
              "      <td>194</td>\n",
              "      <td>151</td>\n",
              "      <td>188</td>\n",
              "      <td>193</td>\n",
              "      <td>149</td>\n",
              "      <td>182</td>\n",
              "      <td>193</td>\n",
              "      <td>150</td>\n",
              "      <td>181</td>\n",
              "      <td>195</td>\n",
              "      <td>154</td>\n",
              "      <td>185</td>\n",
              "      <td>195</td>\n",
              "      <td>156</td>\n",
              "      <td>189</td>\n",
              "      <td>203</td>\n",
              "      <td>164</td>\n",
              "      <td>196</td>\n",
              "      <td>206</td>\n",
              "      <td>166</td>\n",
              "      <td>203</td>\n",
              "      <td>209</td>\n",
              "      <td>165</td>\n",
              "      <td>201</td>\n",
              "      <td>211</td>\n",
              "      <td>166</td>\n",
              "      <td>206</td>\n",
              "      <td>209</td>\n",
              "      <td>165</td>\n",
              "      <td>206</td>\n",
              "      <td>203</td>\n",
              "      <td>...</td>\n",
              "      <td>179</td>\n",
              "      <td>202</td>\n",
              "      <td>167</td>\n",
              "      <td>183</td>\n",
              "      <td>199</td>\n",
              "      <td>159</td>\n",
              "      <td>175</td>\n",
              "      <td>189</td>\n",
              "      <td>141</td>\n",
              "      <td>148</td>\n",
              "      <td>184</td>\n",
              "      <td>131</td>\n",
              "      <td>136</td>\n",
              "      <td>180</td>\n",
              "      <td>128</td>\n",
              "      <td>136</td>\n",
              "      <td>179</td>\n",
              "      <td>127</td>\n",
              "      <td>141</td>\n",
              "      <td>176</td>\n",
              "      <td>129</td>\n",
              "      <td>149</td>\n",
              "      <td>175</td>\n",
              "      <td>127</td>\n",
              "      <td>145</td>\n",
              "      <td>179</td>\n",
              "      <td>136</td>\n",
              "      <td>157</td>\n",
              "      <td>182</td>\n",
              "      <td>146</td>\n",
              "      <td>164</td>\n",
              "      <td>185</td>\n",
              "      <td>154</td>\n",
              "      <td>180</td>\n",
              "      <td>186</td>\n",
              "      <td>156</td>\n",
              "      <td>184</td>\n",
              "      <td>182</td>\n",
              "      <td>152</td>\n",
              "      <td>173</td>\n",
              "    </tr>\n",
              "    <tr>\n",
              "      <th>1</th>\n",
              "      <td>24</td>\n",
              "      <td>13</td>\n",
              "      <td>23</td>\n",
              "      <td>24</td>\n",
              "      <td>14</td>\n",
              "      <td>28</td>\n",
              "      <td>37</td>\n",
              "      <td>24</td>\n",
              "      <td>46</td>\n",
              "      <td>61</td>\n",
              "      <td>44</td>\n",
              "      <td>70</td>\n",
              "      <td>90</td>\n",
              "      <td>66</td>\n",
              "      <td>97</td>\n",
              "      <td>111</td>\n",
              "      <td>83</td>\n",
              "      <td>118</td>\n",
              "      <td>127</td>\n",
              "      <td>98</td>\n",
              "      <td>129</td>\n",
              "      <td>144</td>\n",
              "      <td>112</td>\n",
              "      <td>141</td>\n",
              "      <td>161</td>\n",
              "      <td>131</td>\n",
              "      <td>159</td>\n",
              "      <td>169</td>\n",
              "      <td>138</td>\n",
              "      <td>165</td>\n",
              "      <td>171</td>\n",
              "      <td>135</td>\n",
              "      <td>159</td>\n",
              "      <td>173</td>\n",
              "      <td>135</td>\n",
              "      <td>156</td>\n",
              "      <td>178</td>\n",
              "      <td>138</td>\n",
              "      <td>164</td>\n",
              "      <td>178</td>\n",
              "      <td>...</td>\n",
              "      <td>159</td>\n",
              "      <td>176</td>\n",
              "      <td>132</td>\n",
              "      <td>147</td>\n",
              "      <td>163</td>\n",
              "      <td>121</td>\n",
              "      <td>129</td>\n",
              "      <td>143</td>\n",
              "      <td>96</td>\n",
              "      <td>96</td>\n",
              "      <td>129</td>\n",
              "      <td>89</td>\n",
              "      <td>90</td>\n",
              "      <td>111</td>\n",
              "      <td>76</td>\n",
              "      <td>74</td>\n",
              "      <td>92</td>\n",
              "      <td>60</td>\n",
              "      <td>64</td>\n",
              "      <td>69</td>\n",
              "      <td>46</td>\n",
              "      <td>56</td>\n",
              "      <td>44</td>\n",
              "      <td>27</td>\n",
              "      <td>43</td>\n",
              "      <td>30</td>\n",
              "      <td>16</td>\n",
              "      <td>34</td>\n",
              "      <td>27</td>\n",
              "      <td>14</td>\n",
              "      <td>30</td>\n",
              "      <td>26</td>\n",
              "      <td>15</td>\n",
              "      <td>29</td>\n",
              "      <td>27</td>\n",
              "      <td>15</td>\n",
              "      <td>28</td>\n",
              "      <td>24</td>\n",
              "      <td>13</td>\n",
              "      <td>25</td>\n",
              "    </tr>\n",
              "    <tr>\n",
              "      <th>2</th>\n",
              "      <td>185</td>\n",
              "      <td>129</td>\n",
              "      <td>140</td>\n",
              "      <td>192</td>\n",
              "      <td>136</td>\n",
              "      <td>151</td>\n",
              "      <td>198</td>\n",
              "      <td>142</td>\n",
              "      <td>156</td>\n",
              "      <td>198</td>\n",
              "      <td>140</td>\n",
              "      <td>154</td>\n",
              "      <td>199</td>\n",
              "      <td>141</td>\n",
              "      <td>158</td>\n",
              "      <td>199</td>\n",
              "      <td>141</td>\n",
              "      <td>159</td>\n",
              "      <td>205</td>\n",
              "      <td>147</td>\n",
              "      <td>162</td>\n",
              "      <td>205</td>\n",
              "      <td>151</td>\n",
              "      <td>167</td>\n",
              "      <td>208</td>\n",
              "      <td>154</td>\n",
              "      <td>171</td>\n",
              "      <td>207</td>\n",
              "      <td>147</td>\n",
              "      <td>161</td>\n",
              "      <td>204</td>\n",
              "      <td>146</td>\n",
              "      <td>153</td>\n",
              "      <td>207</td>\n",
              "      <td>154</td>\n",
              "      <td>161</td>\n",
              "      <td>209</td>\n",
              "      <td>156</td>\n",
              "      <td>163</td>\n",
              "      <td>210</td>\n",
              "      <td>...</td>\n",
              "      <td>179</td>\n",
              "      <td>199</td>\n",
              "      <td>156</td>\n",
              "      <td>175</td>\n",
              "      <td>190</td>\n",
              "      <td>147</td>\n",
              "      <td>171</td>\n",
              "      <td>194</td>\n",
              "      <td>154</td>\n",
              "      <td>183</td>\n",
              "      <td>197</td>\n",
              "      <td>152</td>\n",
              "      <td>172</td>\n",
              "      <td>175</td>\n",
              "      <td>129</td>\n",
              "      <td>140</td>\n",
              "      <td>160</td>\n",
              "      <td>117</td>\n",
              "      <td>132</td>\n",
              "      <td>163</td>\n",
              "      <td>127</td>\n",
              "      <td>141</td>\n",
              "      <td>161</td>\n",
              "      <td>128</td>\n",
              "      <td>140</td>\n",
              "      <td>161</td>\n",
              "      <td>128</td>\n",
              "      <td>144</td>\n",
              "      <td>155</td>\n",
              "      <td>122</td>\n",
              "      <td>139</td>\n",
              "      <td>152</td>\n",
              "      <td>120</td>\n",
              "      <td>138</td>\n",
              "      <td>144</td>\n",
              "      <td>113</td>\n",
              "      <td>123</td>\n",
              "      <td>115</td>\n",
              "      <td>81</td>\n",
              "      <td>84</td>\n",
              "    </tr>\n",
              "    <tr>\n",
              "      <th>3</th>\n",
              "      <td>24</td>\n",
              "      <td>11</td>\n",
              "      <td>19</td>\n",
              "      <td>36</td>\n",
              "      <td>19</td>\n",
              "      <td>30</td>\n",
              "      <td>64</td>\n",
              "      <td>38</td>\n",
              "      <td>50</td>\n",
              "      <td>91</td>\n",
              "      <td>60</td>\n",
              "      <td>71</td>\n",
              "      <td>111</td>\n",
              "      <td>71</td>\n",
              "      <td>87</td>\n",
              "      <td>130</td>\n",
              "      <td>91</td>\n",
              "      <td>106</td>\n",
              "      <td>150</td>\n",
              "      <td>114</td>\n",
              "      <td>129</td>\n",
              "      <td>160</td>\n",
              "      <td>116</td>\n",
              "      <td>124</td>\n",
              "      <td>167</td>\n",
              "      <td>110</td>\n",
              "      <td>111</td>\n",
              "      <td>168</td>\n",
              "      <td>100</td>\n",
              "      <td>101</td>\n",
              "      <td>176</td>\n",
              "      <td>110</td>\n",
              "      <td>116</td>\n",
              "      <td>184</td>\n",
              "      <td>131</td>\n",
              "      <td>144</td>\n",
              "      <td>191</td>\n",
              "      <td>141</td>\n",
              "      <td>152</td>\n",
              "      <td>191</td>\n",
              "      <td>...</td>\n",
              "      <td>162</td>\n",
              "      <td>154</td>\n",
              "      <td>124</td>\n",
              "      <td>138</td>\n",
              "      <td>143</td>\n",
              "      <td>111</td>\n",
              "      <td>126</td>\n",
              "      <td>129</td>\n",
              "      <td>100</td>\n",
              "      <td>111</td>\n",
              "      <td>102</td>\n",
              "      <td>74</td>\n",
              "      <td>80</td>\n",
              "      <td>94</td>\n",
              "      <td>73</td>\n",
              "      <td>86</td>\n",
              "      <td>74</td>\n",
              "      <td>47</td>\n",
              "      <td>61</td>\n",
              "      <td>52</td>\n",
              "      <td>32</td>\n",
              "      <td>45</td>\n",
              "      <td>33</td>\n",
              "      <td>17</td>\n",
              "      <td>25</td>\n",
              "      <td>28</td>\n",
              "      <td>13</td>\n",
              "      <td>19</td>\n",
              "      <td>27</td>\n",
              "      <td>13</td>\n",
              "      <td>17</td>\n",
              "      <td>27</td>\n",
              "      <td>13</td>\n",
              "      <td>16</td>\n",
              "      <td>25</td>\n",
              "      <td>12</td>\n",
              "      <td>16</td>\n",
              "      <td>24</td>\n",
              "      <td>9</td>\n",
              "      <td>14</td>\n",
              "    </tr>\n",
              "    <tr>\n",
              "      <th>4</th>\n",
              "      <td>138</td>\n",
              "      <td>94</td>\n",
              "      <td>117</td>\n",
              "      <td>158</td>\n",
              "      <td>113</td>\n",
              "      <td>138</td>\n",
              "      <td>178</td>\n",
              "      <td>133</td>\n",
              "      <td>161</td>\n",
              "      <td>191</td>\n",
              "      <td>143</td>\n",
              "      <td>172</td>\n",
              "      <td>202</td>\n",
              "      <td>150</td>\n",
              "      <td>173</td>\n",
              "      <td>212</td>\n",
              "      <td>160</td>\n",
              "      <td>185</td>\n",
              "      <td>216</td>\n",
              "      <td>162</td>\n",
              "      <td>191</td>\n",
              "      <td>222</td>\n",
              "      <td>175</td>\n",
              "      <td>209</td>\n",
              "      <td>227</td>\n",
              "      <td>183</td>\n",
              "      <td>219</td>\n",
              "      <td>229</td>\n",
              "      <td>183</td>\n",
              "      <td>216</td>\n",
              "      <td>232</td>\n",
              "      <td>188</td>\n",
              "      <td>221</td>\n",
              "      <td>234</td>\n",
              "      <td>193</td>\n",
              "      <td>222</td>\n",
              "      <td>234</td>\n",
              "      <td>191</td>\n",
              "      <td>218</td>\n",
              "      <td>235</td>\n",
              "      <td>...</td>\n",
              "      <td>209</td>\n",
              "      <td>221</td>\n",
              "      <td>169</td>\n",
              "      <td>202</td>\n",
              "      <td>226</td>\n",
              "      <td>167</td>\n",
              "      <td>201</td>\n",
              "      <td>226</td>\n",
              "      <td>164</td>\n",
              "      <td>197</td>\n",
              "      <td>224</td>\n",
              "      <td>176</td>\n",
              "      <td>203</td>\n",
              "      <td>224</td>\n",
              "      <td>178</td>\n",
              "      <td>206</td>\n",
              "      <td>222</td>\n",
              "      <td>181</td>\n",
              "      <td>206</td>\n",
              "      <td>213</td>\n",
              "      <td>170</td>\n",
              "      <td>191</td>\n",
              "      <td>200</td>\n",
              "      <td>155</td>\n",
              "      <td>177</td>\n",
              "      <td>187</td>\n",
              "      <td>148</td>\n",
              "      <td>164</td>\n",
              "      <td>164</td>\n",
              "      <td>128</td>\n",
              "      <td>140</td>\n",
              "      <td>140</td>\n",
              "      <td>106</td>\n",
              "      <td>118</td>\n",
              "      <td>108</td>\n",
              "      <td>77</td>\n",
              "      <td>92</td>\n",
              "      <td>67</td>\n",
              "      <td>40</td>\n",
              "      <td>55</td>\n",
              "    </tr>\n",
              "  </tbody>\n",
              "</table>\n",
              "<p>5 rows × 12288 columns</p>\n",
              "</div>"
            ],
            "text/plain": [
              "     0    1    2    3    4    5  ...  12282  12283  12284  12285  12286  12287\n",
              "0  191  152  194  191  153  195  ...    186    156    184    182    152    173\n",
              "1   24   13   23   24   14   28  ...     27     15     28     24     13     25\n",
              "2  185  129  140  192  136  151  ...    144    113    123    115     81     84\n",
              "3   24   11   19   36   19   30  ...     25     12     16     24      9     14\n",
              "4  138   94  117  158  113  138  ...    108     77     92     67     40     55\n",
              "\n",
              "[5 rows x 12288 columns]"
            ]
          },
          "metadata": {
            "tags": []
          },
          "execution_count": 12
        }
      ]
    },
    {
      "cell_type": "code",
      "metadata": {
        "id": "DVCZJvtF-nPw",
        "colab_type": "code",
        "colab": {}
      },
      "source": [
        "X = cnn_drop.to_numpy()"
      ],
      "execution_count": 13,
      "outputs": []
    },
    {
      "cell_type": "code",
      "metadata": {
        "id": "81wc6lTe_Bnt",
        "colab_type": "code",
        "colab": {
          "base_uri": "https://localhost:8080/",
          "height": 34
        },
        "outputId": "a9c0dc6f-b46a-4e7e-8e18-1bab9025d9c7"
      },
      "source": [
        "# Checking the shape of the array\n",
        "X.shape"
      ],
      "execution_count": 14,
      "outputs": [
        {
          "output_type": "execute_result",
          "data": {
            "text/plain": [
              "(10015, 12288)"
            ]
          },
          "metadata": {
            "tags": []
          },
          "execution_count": 14
        }
      ]
    },
    {
      "cell_type": "markdown",
      "metadata": {
        "id": "_pyidSeICDbe",
        "colab_type": "text"
      },
      "source": [
        "**NOTE** : The array 'X' has a total of 10015 rows and 12288 columns."
      ]
    },
    {
      "cell_type": "code",
      "metadata": {
        "id": "UckOvBAD_vwJ",
        "colab_type": "code",
        "colab": {}
      },
      "source": [
        "# Storing the 'label' column values in a different variable i.e. 'label'\n",
        "label = cnn_df[\"label\"].values"
      ],
      "execution_count": 15,
      "outputs": []
    },
    {
      "cell_type": "code",
      "metadata": {
        "id": "Fb8sCxvABS0j",
        "colab_type": "code",
        "colab": {
          "base_uri": "https://localhost:8080/",
          "height": 34
        },
        "outputId": "e9d0a372-507b-446d-dd2b-08ceedaa5c44"
      },
      "source": [
        "# Checking the shape of 'label' column\n",
        "label.shape"
      ],
      "execution_count": 16,
      "outputs": [
        {
          "output_type": "execute_result",
          "data": {
            "text/plain": [
              "(10015,)"
            ]
          },
          "metadata": {
            "tags": []
          },
          "execution_count": 16
        }
      ]
    },
    {
      "cell_type": "markdown",
      "metadata": {
        "id": "1mhf7IRnBaoT",
        "colab_type": "text"
      },
      "source": [
        "**NOTE** : One can say that 'label' consists of all 10015 rows of the dataset and since its a single column, the column count value is not highlighted."
      ]
    },
    {
      "cell_type": "markdown",
      "metadata": {
        "id": "G7XHJLehFqfM",
        "colab_type": "text"
      },
      "source": [
        "### **DATA** **PREPROCESSING**"
      ]
    },
    {
      "cell_type": "markdown",
      "metadata": {
        "id": "6EUK1TxGFydP",
        "colab_type": "text"
      },
      "source": [
        "##### **SCALING** **AND** **SPLITTING** **THE** **DATA** **INTO** **TRAIN** **TEST** **AND** **VALIDATION** **DATASETS** **FOR** **FURTHER** **MODEL** **CREATION**"
      ]
    },
    {
      "cell_type": "code",
      "metadata": {
        "id": "jztAKllhFxRb",
        "colab_type": "code",
        "colab": {}
      },
      "source": [
        "# Scaling (normalization) of the dataset\n",
        "X_mean = np.mean(X) # calculating the mean of the numpy array\n",
        "X_std = np.std(X) # Calculating the standard deviation of the numpy array\n",
        "\n",
        "X = (X - X_mean)/X_std # Standardizing/ Normalizing the numpy array"
      ],
      "execution_count": 17,
      "outputs": []
    },
    {
      "cell_type": "code",
      "metadata": {
        "id": "RxzzpijWHD6r",
        "colab_type": "code",
        "colab": {}
      },
      "source": [
        "# Splitting the data into train and test sets\n",
        "\n",
        "# Here I will be considering the entire dataset as the training data hence taking the complete dataset 'X' into consideration\n",
        "# Also only 10% of the dataset will be used as the testing dataset. Hence the test_size has been mentioned as 0.1 and a random state of '0' in order to \n",
        "# to avoid random splitting of the dataset.\n",
        "\n",
        "X_train_orig, X_test, y_train_orig, y_test = train_test_split(X, label, test_size=0.1,random_state=0)\n",
        "\n"
      ],
      "execution_count": 18,
      "outputs": []
    },
    {
      "cell_type": "code",
      "metadata": {
        "id": "IloPytZ5YPAy",
        "colab_type": "code",
        "colab": {
          "base_uri": "https://localhost:8080/",
          "height": 34
        },
        "outputId": "862a7622-5882-405b-ba0b-5793ab573c50"
      },
      "source": [
        "# Checking the shape of the two splits\n",
        "\n",
        "X_train_orig.shape, X_test.shape, y_train_orig.shape, y_test.shape"
      ],
      "execution_count": 19,
      "outputs": [
        {
          "output_type": "execute_result",
          "data": {
            "text/plain": [
              "((9013, 12288), (1002, 12288), (9013,), (1002,))"
            ]
          },
          "metadata": {
            "tags": []
          },
          "execution_count": 19
        }
      ]
    },
    {
      "cell_type": "code",
      "metadata": {
        "id": "o4zoN-0WYY0G",
        "colab_type": "code",
        "colab": {}
      },
      "source": [
        "# Splitting the data into train and validation dataset from already splitted train dataset in the previous set\n",
        "\n",
        "# Here I will be considering 20% of the data as the validation set data hence, the test size is set to 0.2, with a random state of 1.\n",
        "\n",
        "X_train, X_val, y_train, y_val = train_test_split(X_train_orig, y_train_orig, test_size=0.2, random_state=1)"
      ],
      "execution_count": 20,
      "outputs": []
    },
    {
      "cell_type": "code",
      "metadata": {
        "id": "Pv-5X_4dd-me",
        "colab_type": "code",
        "colab": {
          "base_uri": "https://localhost:8080/",
          "height": 34
        },
        "outputId": "f4d6c6ff-4dcd-4000-f540-4ca5fef1d65f"
      },
      "source": [
        "# Checking the shape of final train and validation sets\n",
        "\n",
        "X_train.shape, X_val.shape, y_train.shape, y_val.shape"
      ],
      "execution_count": 21,
      "outputs": [
        {
          "output_type": "execute_result",
          "data": {
            "text/plain": [
              "((7210, 12288), (1803, 12288), (7210,), (1803,))"
            ]
          },
          "metadata": {
            "tags": []
          },
          "execution_count": 21
        }
      ]
    },
    {
      "cell_type": "markdown",
      "metadata": {
        "id": "IxEYGCATqTxh",
        "colab_type": "text"
      },
      "source": [
        "**NOTE** : From the above command, the exact shape of the train,test,validation dataset confirms that there are 7210 rows and 12288 columns in the input training dataset, 1803 rows in the input validation set and 12288 columns and finally 7210 rows and 1803 rows in the output validation dataset."
      ]
    },
    {
      "cell_type": "markdown",
      "metadata": {
        "id": "dt8jIM24J99o",
        "colab_type": "text"
      },
      "source": [
        "#### **RESHAPING** **THE** **DATA** **TO** **BUILD** **THE** **MODEL** **FURTHER**"
      ]
    },
    {
      "cell_type": "code",
      "metadata": {
        "id": "aceszh-UFFNq",
        "colab_type": "code",
        "colab": {}
      },
      "source": [
        "X_train = X_train.reshape(X_train.shape[0], *(64, 64, 3))\n",
        "X_val = X_val.reshape(X_val.shape[0], *(64, 64, 3))\n",
        "X_test = X_test.reshape(X_test.shape[0], *(64, 64, 3))\n"
      ],
      "execution_count": 22,
      "outputs": []
    },
    {
      "cell_type": "code",
      "metadata": {
        "id": "0RndBpVVKVCU",
        "colab_type": "code",
        "colab": {
          "base_uri": "https://localhost:8080/",
          "height": 34
        },
        "outputId": "d21c7e49-e6b9-4dca-8739-8b44c6365384"
      },
      "source": [
        "# checking the shape of each input training,validation and test datasets\n",
        "X_train.shape, X_val.shape, X_test.shape"
      ],
      "execution_count": 23,
      "outputs": [
        {
          "output_type": "execute_result",
          "data": {
            "text/plain": [
              "((7210, 64, 64, 3), (1803, 64, 64, 3), (1002, 64, 64, 3))"
            ]
          },
          "metadata": {
            "tags": []
          },
          "execution_count": 23
        }
      ]
    },
    {
      "cell_type": "markdown",
      "metadata": {
        "id": "-30gLXzgLNYb",
        "colab_type": "text"
      },
      "source": [
        "**NOTE** : One can see that the dataset has been reshaped in the form of 64x64x3 where 64x64 is the pixel size and 3 is the RGB information."
      ]
    },
    {
      "cell_type": "code",
      "metadata": {
        "id": "UF3-iKqTKiDj",
        "colab_type": "code",
        "colab": {
          "base_uri": "https://localhost:8080/",
          "height": 34
        },
        "outputId": "948765ba-fa94-45e3-8a72-f32af574e8a3"
      },
      "source": [
        "# checking the shape of the output training dataset\n",
        "y_train.shape"
      ],
      "execution_count": 24,
      "outputs": [
        {
          "output_type": "execute_result",
          "data": {
            "text/plain": [
              "(7210,)"
            ]
          },
          "metadata": {
            "tags": []
          },
          "execution_count": 24
        }
      ]
    },
    {
      "cell_type": "markdown",
      "metadata": {
        "id": "gMp-28p9Li0d",
        "colab_type": "text"
      },
      "source": [
        "**NOTE** : The output training set consists a total of 7210 rows and just a single column."
      ]
    },
    {
      "cell_type": "code",
      "metadata": {
        "id": "G_CkGHP8LtrQ",
        "colab_type": "code",
        "colab": {}
      },
      "source": [
        "# Changing the output training, validation and test set data into matrix form\n",
        "y_train = to_categorical(y_train)\n",
        "y_val = to_categorical(y_val)\n",
        "y_test = to_categorical(y_test)"
      ],
      "execution_count": 25,
      "outputs": []
    },
    {
      "cell_type": "code",
      "metadata": {
        "id": "jwK5TTGiNC7O",
        "colab_type": "code",
        "colab": {
          "base_uri": "https://localhost:8080/",
          "height": 34
        },
        "outputId": "cf46a4c4-54f8-42a4-9944-f79cc7be4ddb"
      },
      "source": [
        "# Checking the shape of output training, testing and validation datasets\n",
        "\n",
        "y_train.shape, y_val.shape, y_test.shape"
      ],
      "execution_count": 26,
      "outputs": [
        {
          "output_type": "execute_result",
          "data": {
            "text/plain": [
              "((7210, 7), (1803, 7), (1002, 7))"
            ]
          },
          "metadata": {
            "tags": []
          },
          "execution_count": 26
        }
      ]
    },
    {
      "cell_type": "markdown",
      "metadata": {
        "id": "DNnfHODCTB10",
        "colab_type": "text"
      },
      "source": [
        "**NOTE** : Finally the output training, validation and test datasets consists of 7210 rows, 1803 rows, 1002 rows respectively with every dataset consisting of 7 columns each."
      ]
    },
    {
      "cell_type": "markdown",
      "metadata": {
        "id": "8zWxaxYSmOXM",
        "colab_type": "text"
      },
      "source": [
        "###**TO** **BUILD** **THE** **CNN** **MODEL**"
      ]
    },
    {
      "cell_type": "markdown",
      "metadata": {
        "id": "uG7DKeD7qdHY",
        "colab_type": "text"
      },
      "source": [
        "### **Steps** **involved** **to** **create** **a** **CNN** **model** **are** **as** **follows** :\n",
        "\n",
        "**NOTE** : I used the Keras Sequential API, where you have just to add one layer at a time, starting from the input.\n",
        "\n",
        "**Q**. Why I used the Keras Sequential API?\n",
        "\n",
        "Ans : To answer this question, Keras Sequential API is the most popular, highest level API which is extremely simple, concise and readable. It has a simple network which is easy to debug as well.\n",
        "\n",
        "The basic architecture of a CNN consists of the following :\n",
        "\n",
        "- The first is the **convolutional** (**Conv2D**) **layer**. It is like a set of learnable filters. I chose to set **16** filters for the  first conv2D layer, **32** filters for the second conv2D layer and **64** filters for the  last one.\n",
        "\n",
        "- Each filter transforms a part of the image (defined by the kernel size) using the kernel filter. \n",
        "\n",
        "- The kernel filter matrix is applied on the whole image. Filters can be seen as a transformation of the image.\n",
        "\n",
        "- The CNN can isolate features that are useful everywhere from these transformed images (feature maps).\n",
        "\n",
        "- The second important layer in CNN is the **pooling** (**MaxPool2D**) **layer**. This layer simply acts as a downsampling filter. It looks at the 2 neighboring pixels and picks the maximal value. These are used to reduce computational cost, and to some extent also reduce overfitting.\n",
        "\n",
        "- We have to choose the pooling size (i.e the area size pooled each time) more the pooling dimension is **high**, more the downsampling is important.\n",
        "\n",
        "- Combining convolutional and pooling layers, CNN are able to combine local features and learn more global features of the image.\n",
        "\n",
        "- **Dropout** is a regularization method, where a proportion of nodes in the layer are randomly ignored (setting their wieghts to zero) for each training sample. This drops randomly a propotion of the network and forces the network to learn features in a distributed way. This technique also improves generalization and reduces the overfitting.\n",
        "\n",
        "- '**relu**' is the rectifier (activation function max(0,x). The rectifier activation function is used to add non linearity to the network.\n",
        "\n",
        "- The **Flatten** layer is use to convert the final feature maps into a one single 1D vector. This flattening step is needed so that you can make use of fully connected layers after some convolutional/maxpool layers. It combines all the found local features of the previous convolutional layers.\n",
        "\n",
        "- In the end i used the features in a fully-connected (Dense) layer which is just artificial an neural networks (ANN) classifier. In the last layer(Dense(10,activation=\"softmax\")) the net outputs distribution of probability of each class.\n"
      ]
    },
    {
      "cell_type": "code",
      "metadata": {
        "id": "R-uoWofE5y9Z",
        "colab_type": "code",
        "colab": {}
      },
      "source": [
        "#Importing the KerasClassifier from the scikit learn wrapper class\n",
        "from keras.wrappers.scikit_learn import KerasClassifier\n"
      ],
      "execution_count": 27,
      "outputs": []
    },
    {
      "cell_type": "code",
      "metadata": {
        "id": "SP9vzCq3NvJG",
        "colab_type": "code",
        "colab": {
          "base_uri": "https://localhost:8080/",
          "height": 493
        },
        "outputId": "a67d57ac-7583-4522-915a-f12257a7e173"
      },
      "source": [
        "\n",
        "  \n",
        "# Our input feature map is 64x64x3: 64x64 for the image pixels, and 3 for\n",
        "# the three color channels: R, G, and B\n",
        "input_shape = (64,64,3)\n",
        "num_classes = 7\n",
        "\n",
        "model = Sequential()\n",
        "\n",
        "# First convolution extracts 16 filters that are 3x3\n",
        "# Convolution is followed by max-pooling layer with a 2x2 window\n",
        "model.add(Conv2D(16, kernel_size=(3, 3),activation='relu',padding = 'Same',input_shape=input_shape))\n",
        "model.add(MaxPool2D(pool_size = (2, 2)))\n",
        "\n",
        "\n",
        "# Second convolution extracts 32 filters that are 3x3\n",
        "# Convolution is followed by max-pooling layer with a 2x2 window\n",
        "model.add(Conv2D(32, kernel_size=(3, 3),activation='relu',padding = 'Same'))\n",
        "model.add(MaxPool2D(pool_size = (2, 2)))\n",
        "\n",
        "# Third convolution extracts 64 filters that are 3x3\n",
        "# Convolution is followed by max-pooling layer with a 2x2 window\n",
        "model.add(Conv2D(64, kernel_size=(3,3), activation='relu', padding='Same'))\n",
        "model.add(MaxPool2D(pool_size= (2, 2)))\n",
        "\n",
        "# Flatten feature map to a 1-dim tensor\n",
        "model.add(Flatten())\n",
        "\n",
        "# Create a fully connected layer with ReLU activation and 512 hidden units (neurons)\n",
        "model.add(Dense(512, activation='relu'))\n",
        "\n",
        "# Add a dropout rate of 0.5\n",
        "model.add(Dropout(0.5))\n",
        "\n",
        "# Adding the output layer with the sigmoid function for classification\n",
        "model.add(Dense(num_classes, activation='softmax'))\n",
        "\n",
        "# Adding the summary of the model\n",
        "model.summary()\n",
        "\n"
      ],
      "execution_count": 28,
      "outputs": [
        {
          "output_type": "stream",
          "text": [
            "Model: \"sequential\"\n",
            "_________________________________________________________________\n",
            "Layer (type)                 Output Shape              Param #   \n",
            "=================================================================\n",
            "conv2d (Conv2D)              (None, 64, 64, 16)        448       \n",
            "_________________________________________________________________\n",
            "max_pooling2d (MaxPooling2D) (None, 32, 32, 16)        0         \n",
            "_________________________________________________________________\n",
            "conv2d_1 (Conv2D)            (None, 32, 32, 32)        4640      \n",
            "_________________________________________________________________\n",
            "max_pooling2d_1 (MaxPooling2 (None, 16, 16, 32)        0         \n",
            "_________________________________________________________________\n",
            "conv2d_2 (Conv2D)            (None, 16, 16, 64)        18496     \n",
            "_________________________________________________________________\n",
            "max_pooling2d_2 (MaxPooling2 (None, 8, 8, 64)          0         \n",
            "_________________________________________________________________\n",
            "flatten (Flatten)            (None, 4096)              0         \n",
            "_________________________________________________________________\n",
            "dense (Dense)                (None, 512)               2097664   \n",
            "_________________________________________________________________\n",
            "dropout (Dropout)            (None, 512)               0         \n",
            "_________________________________________________________________\n",
            "dense_1 (Dense)              (None, 7)                 3591      \n",
            "=================================================================\n",
            "Total params: 2,124,839\n",
            "Trainable params: 2,124,839\n",
            "Non-trainable params: 0\n",
            "_________________________________________________________________\n"
          ],
          "name": "stdout"
        }
      ]
    },
    {
      "cell_type": "markdown",
      "metadata": {
        "id": "CnJEA5n5H1Kg",
        "colab_type": "text"
      },
      "source": [
        "#### **SETTING** **THE** **OPTIMIZER** "
      ]
    },
    {
      "cell_type": "markdown",
      "metadata": {
        "id": "iw82tKrCIWkg",
        "colab_type": "text"
      },
      "source": [
        "Once our layers are added to the model, we need to set up a score function, a loss function and an optimisation algorithm. We define the loss function to measure how poorly our model performs on images with known labels. It is the error rate between the oberved labels and the predicted ones. We use a specific form for categorical classifications (>2 classes) called the \"categorical_crossentropy\". The most important function is the optimizer. This function will iteratively improve parameters (filters kernel values, weights and bias of neurons) in order to minimise the loss.\n",
        "\n",
        "I chose Adam optimizer because it combines the advantages of two other extensions of stochastic gradient descent. \n",
        "\n",
        "Specifically:\n",
        "\n",
        "Adaptive Gradient Algorithm (AdaGrad) that maintains a per-parameter learning rate that improves performance on problems with sparse gradients (e.g. natural language and computer vision problems).\n",
        "\n",
        "Root Mean Square Propagation (RMSProp) that also maintains per-parameter learning rates that are adapted based on the average of recent magnitudes of the gradients for the weight (e.g. how quickly it is changing). This means the algorithm does well on online and non-stationary problems (e.g. noisy).\n",
        "\n",
        "Adam realizes the benefits of both AdaGrad and RMSProp.\n",
        "\n",
        "Adam is a popular algorithm in the field of deep learning because it achieves good results fast.\n",
        "\n",
        "The metric function \"accuracy\" is used is to evaluate the performance our model. This metric function is similar to the loss function, except that the results from the metric evaluation are not used when training the model (only for evaluation)."
      ]
    },
    {
      "cell_type": "code",
      "metadata": {
        "id": "Hgqfbi2G4uKW",
        "colab_type": "code",
        "colab": {}
      },
      "source": [
        "# Define the optimizer\n",
        "optimizer = Adam(lr=0.001, beta_1=0.9, beta_2=0.999, epsilon=None, decay=0.0, amsgrad=False)"
      ],
      "execution_count": 29,
      "outputs": []
    },
    {
      "cell_type": "code",
      "metadata": {
        "id": "3RagNk2FK1Hh",
        "colab_type": "code",
        "colab": {}
      },
      "source": [
        "# Compile the model\n",
        "model.compile(optimizer = optimizer , loss = \"categorical_crossentropy\", metrics=[\"accuracy\"])\n"
      ],
      "execution_count": 30,
      "outputs": []
    },
    {
      "cell_type": "markdown",
      "metadata": {
        "id": "MR1Ck2hkUp4a",
        "colab_type": "text"
      },
      "source": [
        "In order to make the optimizer converge faster and closest to the global minimum of the loss function, i used an annealing method of the learning rate (LR).\n",
        "\n",
        "The LR is the step by which the optimizer walks through the 'loss landscape'. The higher LR, the bigger are the steps and the quicker is the convergence. However the sampling is very poor with an high LR and the optimizer could probably fall into a local minima.\n",
        "\n",
        "Its better to have a decreasing learning rate during the training to reach efficiently the global minimum of the loss function.\n",
        "\n",
        "To keep the advantage of the fast computation time with a high LR, i decreased the LR dynamically every X steps (epochs) depending if it is necessary (when accuracy is not improved).\n",
        "\n",
        "With the ReduceLROnPlateau function from Keras.callbacks, i choose to reduce the LR by half if the accuracy is not improved after 3 epochs."
      ]
    },
    {
      "cell_type": "markdown",
      "metadata": {
        "id": "DEZpwZpEVAP-",
        "colab_type": "text"
      },
      "source": [
        "### **DATA** **AUGMENTATION**"
      ]
    },
    {
      "cell_type": "markdown",
      "metadata": {
        "id": "AHH1Mm4qVR2t",
        "colab_type": "text"
      },
      "source": [
        "- It is the optional step. In order to avoid overfitting problem, we need to expand artificially our HAM 10000 dataset. We can make your existing dataset even larger. The idea is to alter the training data with small transformations to reproduce the variations\n",
        "\n",
        "- Approaches that alter the training data in ways that change the array representation while keeping the label the same are known as data augmentation techniques. Some popular augmentations people use are grayscales, horizontal flips, vertical flips, random crops, color jitters, translations, rotations, and much more.\n",
        "\n",
        "- By applying just a couple of these transformations to our training data, we can easily double or triple the number of training examples and create a very robust model."
      ]
    },
    {
      "cell_type": "code",
      "metadata": {
        "id": "PqvQ5qrqVJIl",
        "colab_type": "code",
        "colab": {}
      },
      "source": [
        "train_datagen = ImageDataGenerator(rotation_range=40, width_shift_range=0.2, height_shift_range=0.2,\n",
        "                             shear_range=0.2, zoom_range=0.2, horizontal_flip=True, fill_mode='nearest')\n",
        "\n",
        "train_datagen.fit(X_train)\n",
        "\n",
        "val_datagen = ImageDataGenerator()\n",
        "val_datagen.fit(X_val)"
      ],
      "execution_count": 31,
      "outputs": []
    },
    {
      "cell_type": "code",
      "metadata": {
        "id": "LhCvwcDeAh-8",
        "colab_type": "code",
        "colab": {}
      },
      "source": [
        "# Set a learning rate annealer\n",
        "learning_rate_reduction = ReduceLROnPlateau(monitor='val_acc', patience=3, verbose=1, factor=0.5, min_lr=0.00001)"
      ],
      "execution_count": 32,
      "outputs": []
    },
    {
      "cell_type": "markdown",
      "metadata": {
        "id": "B7OcUOcrAq5M",
        "colab_type": "text"
      },
      "source": [
        "**MODEL** **FITTING**\n",
        "\n",
        "This step finally I fit the model into x_train, y_train. In this step I have choosen batch size of 10 and 50 epochs as small as your batch size will be more efficiently your model will train and I have choosen 50 epochs to give the model sufficient epochs to train."
      ]
    },
    {
      "cell_type": "code",
      "metadata": {
        "id": "BIOyDYB5OzOT",
        "colab_type": "code",
        "colab": {
          "base_uri": "https://localhost:8080/",
          "height": 1000
        },
        "outputId": "b2a72cc8-3d32-409d-fbdc-b18030aa82ce"
      },
      "source": [
        "batch_size = 64\n",
        "epochs = 30\n",
        "history = model.fit_generator(train_datagen.flow(X_train,y_train, batch_size=batch_size),\n",
        "                              epochs = epochs, validation_data = val_datagen.flow(X_val, y_val),\n",
        "                              verbose = 1, steps_per_epoch=(X_train.shape[0] // batch_size),\n",
        "                              callbacks=[learning_rate_reduction])\n"
      ],
      "execution_count": 33,
      "outputs": [
        {
          "output_type": "stream",
          "text": [
            "WARNING:tensorflow:From <ipython-input-33-064a233de445>:6: Model.fit_generator (from tensorflow.python.keras.engine.training) is deprecated and will be removed in a future version.\n",
            "Instructions for updating:\n",
            "Please use Model.fit, which supports generators.\n",
            "Epoch 1/30\n",
            "112/112 [==============================] - ETA: 0s - loss: 1.0125 - accuracy: 0.6576WARNING:tensorflow:Reduce LR on plateau conditioned on metric `val_acc` which is not available. Available metrics are: loss,accuracy,val_loss,val_accuracy,lr\n",
            "112/112 [==============================] - 39s 348ms/step - loss: 1.0125 - accuracy: 0.6576 - val_loss: 0.8982 - val_accuracy: 0.6622\n",
            "Epoch 2/30\n",
            "112/112 [==============================] - ETA: 0s - loss: 0.8599 - accuracy: 0.6847WARNING:tensorflow:Reduce LR on plateau conditioned on metric `val_acc` which is not available. Available metrics are: loss,accuracy,val_loss,val_accuracy,lr\n",
            "112/112 [==============================] - 39s 345ms/step - loss: 0.8599 - accuracy: 0.6847 - val_loss: 0.8468 - val_accuracy: 0.7060\n",
            "Epoch 3/30\n",
            "112/112 [==============================] - ETA: 0s - loss: 0.8050 - accuracy: 0.7022WARNING:tensorflow:Reduce LR on plateau conditioned on metric `val_acc` which is not available. Available metrics are: loss,accuracy,val_loss,val_accuracy,lr\n",
            "112/112 [==============================] - 39s 347ms/step - loss: 0.8050 - accuracy: 0.7022 - val_loss: 0.8079 - val_accuracy: 0.7105\n",
            "Epoch 4/30\n",
            "112/112 [==============================] - ETA: 0s - loss: 0.7718 - accuracy: 0.7154WARNING:tensorflow:Reduce LR on plateau conditioned on metric `val_acc` which is not available. Available metrics are: loss,accuracy,val_loss,val_accuracy,lr\n",
            "112/112 [==============================] - 39s 344ms/step - loss: 0.7718 - accuracy: 0.7154 - val_loss: 0.7396 - val_accuracy: 0.7221\n",
            "Epoch 5/30\n",
            "112/112 [==============================] - ETA: 0s - loss: 0.7507 - accuracy: 0.7257WARNING:tensorflow:Reduce LR on plateau conditioned on metric `val_acc` which is not available. Available metrics are: loss,accuracy,val_loss,val_accuracy,lr\n",
            "112/112 [==============================] - 39s 345ms/step - loss: 0.7507 - accuracy: 0.7257 - val_loss: 0.7750 - val_accuracy: 0.6983\n",
            "Epoch 6/30\n",
            "112/112 [==============================] - ETA: 0s - loss: 0.7429 - accuracy: 0.7235WARNING:tensorflow:Reduce LR on plateau conditioned on metric `val_acc` which is not available. Available metrics are: loss,accuracy,val_loss,val_accuracy,lr\n",
            "112/112 [==============================] - 39s 345ms/step - loss: 0.7429 - accuracy: 0.7235 - val_loss: 0.7349 - val_accuracy: 0.7188\n",
            "Epoch 7/30\n",
            "112/112 [==============================] - ETA: 0s - loss: 0.7275 - accuracy: 0.7309WARNING:tensorflow:Reduce LR on plateau conditioned on metric `val_acc` which is not available. Available metrics are: loss,accuracy,val_loss,val_accuracy,lr\n",
            "112/112 [==============================] - 39s 345ms/step - loss: 0.7275 - accuracy: 0.7309 - val_loss: 0.6992 - val_accuracy: 0.7338\n",
            "Epoch 8/30\n",
            "112/112 [==============================] - ETA: 0s - loss: 0.7137 - accuracy: 0.7331WARNING:tensorflow:Reduce LR on plateau conditioned on metric `val_acc` which is not available. Available metrics are: loss,accuracy,val_loss,val_accuracy,lr\n",
            "112/112 [==============================] - 39s 347ms/step - loss: 0.7137 - accuracy: 0.7331 - val_loss: 0.7328 - val_accuracy: 0.7227\n",
            "Epoch 9/30\n",
            "112/112 [==============================] - ETA: 0s - loss: 0.6985 - accuracy: 0.7397WARNING:tensorflow:Reduce LR on plateau conditioned on metric `val_acc` which is not available. Available metrics are: loss,accuracy,val_loss,val_accuracy,lr\n",
            "112/112 [==============================] - 38s 343ms/step - loss: 0.6985 - accuracy: 0.7397 - val_loss: 0.6889 - val_accuracy: 0.7460\n",
            "Epoch 10/30\n",
            "112/112 [==============================] - ETA: 0s - loss: 0.6872 - accuracy: 0.7467WARNING:tensorflow:Reduce LR on plateau conditioned on metric `val_acc` which is not available. Available metrics are: loss,accuracy,val_loss,val_accuracy,lr\n",
            "112/112 [==============================] - 39s 345ms/step - loss: 0.6872 - accuracy: 0.7467 - val_loss: 0.7095 - val_accuracy: 0.7321\n",
            "Epoch 11/30\n",
            "112/112 [==============================] - ETA: 0s - loss: 0.6785 - accuracy: 0.7470WARNING:tensorflow:Reduce LR on plateau conditioned on metric `val_acc` which is not available. Available metrics are: loss,accuracy,val_loss,val_accuracy,lr\n",
            "112/112 [==============================] - 38s 344ms/step - loss: 0.6785 - accuracy: 0.7470 - val_loss: 0.6712 - val_accuracy: 0.7471\n",
            "Epoch 12/30\n",
            "112/112 [==============================] - ETA: 0s - loss: 0.6743 - accuracy: 0.7443WARNING:tensorflow:Reduce LR on plateau conditioned on metric `val_acc` which is not available. Available metrics are: loss,accuracy,val_loss,val_accuracy,lr\n",
            "112/112 [==============================] - 38s 342ms/step - loss: 0.6743 - accuracy: 0.7443 - val_loss: 0.7116 - val_accuracy: 0.7465\n",
            "Epoch 13/30\n",
            "112/112 [==============================] - ETA: 0s - loss: 0.6522 - accuracy: 0.7526WARNING:tensorflow:Reduce LR on plateau conditioned on metric `val_acc` which is not available. Available metrics are: loss,accuracy,val_loss,val_accuracy,lr\n",
            "112/112 [==============================] - 38s 342ms/step - loss: 0.6522 - accuracy: 0.7526 - val_loss: 0.6685 - val_accuracy: 0.7476\n",
            "Epoch 14/30\n",
            "112/112 [==============================] - ETA: 0s - loss: 0.6497 - accuracy: 0.7586WARNING:tensorflow:Reduce LR on plateau conditioned on metric `val_acc` which is not available. Available metrics are: loss,accuracy,val_loss,val_accuracy,lr\n",
            "112/112 [==============================] - 39s 345ms/step - loss: 0.6497 - accuracy: 0.7586 - val_loss: 0.6488 - val_accuracy: 0.7549\n",
            "Epoch 15/30\n",
            "112/112 [==============================] - ETA: 0s - loss: 0.6441 - accuracy: 0.7597WARNING:tensorflow:Reduce LR on plateau conditioned on metric `val_acc` which is not available. Available metrics are: loss,accuracy,val_loss,val_accuracy,lr\n",
            "112/112 [==============================] - 39s 345ms/step - loss: 0.6441 - accuracy: 0.7597 - val_loss: 0.6753 - val_accuracy: 0.7443\n",
            "Epoch 16/30\n",
            "112/112 [==============================] - ETA: 0s - loss: 0.6324 - accuracy: 0.7629WARNING:tensorflow:Reduce LR on plateau conditioned on metric `val_acc` which is not available. Available metrics are: loss,accuracy,val_loss,val_accuracy,lr\n",
            "112/112 [==============================] - 39s 344ms/step - loss: 0.6324 - accuracy: 0.7629 - val_loss: 0.6495 - val_accuracy: 0.7676\n",
            "Epoch 17/30\n",
            "112/112 [==============================] - ETA: 0s - loss: 0.6406 - accuracy: 0.7663WARNING:tensorflow:Reduce LR on plateau conditioned on metric `val_acc` which is not available. Available metrics are: loss,accuracy,val_loss,val_accuracy,lr\n",
            "112/112 [==============================] - 38s 343ms/step - loss: 0.6406 - accuracy: 0.7663 - val_loss: 0.6452 - val_accuracy: 0.7598\n",
            "Epoch 18/30\n",
            "112/112 [==============================] - ETA: 0s - loss: 0.6363 - accuracy: 0.7655WARNING:tensorflow:Reduce LR on plateau conditioned on metric `val_acc` which is not available. Available metrics are: loss,accuracy,val_loss,val_accuracy,lr\n",
            "112/112 [==============================] - 39s 344ms/step - loss: 0.6363 - accuracy: 0.7655 - val_loss: 0.6489 - val_accuracy: 0.7582\n",
            "Epoch 19/30\n",
            "112/112 [==============================] - ETA: 0s - loss: 0.6193 - accuracy: 0.7719WARNING:tensorflow:Reduce LR on plateau conditioned on metric `val_acc` which is not available. Available metrics are: loss,accuracy,val_loss,val_accuracy,lr\n",
            "112/112 [==============================] - 38s 343ms/step - loss: 0.6193 - accuracy: 0.7719 - val_loss: 0.6462 - val_accuracy: 0.7504\n",
            "Epoch 20/30\n",
            "112/112 [==============================] - ETA: 0s - loss: 0.6300 - accuracy: 0.7641WARNING:tensorflow:Reduce LR on plateau conditioned on metric `val_acc` which is not available. Available metrics are: loss,accuracy,val_loss,val_accuracy,lr\n",
            "112/112 [==============================] - 39s 345ms/step - loss: 0.6300 - accuracy: 0.7641 - val_loss: 0.6378 - val_accuracy: 0.7621\n",
            "Epoch 21/30\n",
            "112/112 [==============================] - ETA: 0s - loss: 0.6082 - accuracy: 0.7764WARNING:tensorflow:Reduce LR on plateau conditioned on metric `val_acc` which is not available. Available metrics are: loss,accuracy,val_loss,val_accuracy,lr\n",
            "112/112 [==============================] - 38s 342ms/step - loss: 0.6082 - accuracy: 0.7764 - val_loss: 0.6315 - val_accuracy: 0.7598\n",
            "Epoch 22/30\n",
            "112/112 [==============================] - ETA: 0s - loss: 0.6114 - accuracy: 0.7701WARNING:tensorflow:Reduce LR on plateau conditioned on metric `val_acc` which is not available. Available metrics are: loss,accuracy,val_loss,val_accuracy,lr\n",
            "112/112 [==============================] - 38s 343ms/step - loss: 0.6114 - accuracy: 0.7701 - val_loss: 0.6346 - val_accuracy: 0.7671\n",
            "Epoch 23/30\n",
            "112/112 [==============================] - ETA: 0s - loss: 0.6042 - accuracy: 0.7803WARNING:tensorflow:Reduce LR on plateau conditioned on metric `val_acc` which is not available. Available metrics are: loss,accuracy,val_loss,val_accuracy,lr\n",
            "112/112 [==============================] - 38s 341ms/step - loss: 0.6042 - accuracy: 0.7803 - val_loss: 0.6525 - val_accuracy: 0.7582\n",
            "Epoch 24/30\n",
            "112/112 [==============================] - ETA: 0s - loss: 0.5968 - accuracy: 0.7800WARNING:tensorflow:Reduce LR on plateau conditioned on metric `val_acc` which is not available. Available metrics are: loss,accuracy,val_loss,val_accuracy,lr\n",
            "112/112 [==============================] - 38s 341ms/step - loss: 0.5968 - accuracy: 0.7800 - val_loss: 0.6457 - val_accuracy: 0.7587\n",
            "Epoch 25/30\n",
            "112/112 [==============================] - ETA: 0s - loss: 0.5912 - accuracy: 0.7788WARNING:tensorflow:Reduce LR on plateau conditioned on metric `val_acc` which is not available. Available metrics are: loss,accuracy,val_loss,val_accuracy,lr\n",
            "112/112 [==============================] - 38s 340ms/step - loss: 0.5912 - accuracy: 0.7788 - val_loss: 0.6370 - val_accuracy: 0.7715\n",
            "Epoch 26/30\n",
            "112/112 [==============================] - ETA: 0s - loss: 0.5879 - accuracy: 0.7809WARNING:tensorflow:Reduce LR on plateau conditioned on metric `val_acc` which is not available. Available metrics are: loss,accuracy,val_loss,val_accuracy,lr\n",
            "112/112 [==============================] - 38s 341ms/step - loss: 0.5879 - accuracy: 0.7809 - val_loss: 0.6293 - val_accuracy: 0.7593\n",
            "Epoch 27/30\n",
            "112/112 [==============================] - ETA: 0s - loss: 0.5867 - accuracy: 0.7786WARNING:tensorflow:Reduce LR on plateau conditioned on metric `val_acc` which is not available. Available metrics are: loss,accuracy,val_loss,val_accuracy,lr\n",
            "112/112 [==============================] - 38s 340ms/step - loss: 0.5867 - accuracy: 0.7786 - val_loss: 0.6496 - val_accuracy: 0.7621\n",
            "Epoch 28/30\n",
            "112/112 [==============================] - ETA: 0s - loss: 0.5896 - accuracy: 0.7709WARNING:tensorflow:Reduce LR on plateau conditioned on metric `val_acc` which is not available. Available metrics are: loss,accuracy,val_loss,val_accuracy,lr\n",
            "112/112 [==============================] - 38s 341ms/step - loss: 0.5896 - accuracy: 0.7709 - val_loss: 0.6337 - val_accuracy: 0.7693\n",
            "Epoch 29/30\n",
            "112/112 [==============================] - ETA: 0s - loss: 0.5620 - accuracy: 0.7922WARNING:tensorflow:Reduce LR on plateau conditioned on metric `val_acc` which is not available. Available metrics are: loss,accuracy,val_loss,val_accuracy,lr\n",
            "112/112 [==============================] - 38s 341ms/step - loss: 0.5620 - accuracy: 0.7922 - val_loss: 0.6272 - val_accuracy: 0.7776\n",
            "Epoch 30/30\n",
            "112/112 [==============================] - ETA: 0s - loss: 0.5710 - accuracy: 0.7849WARNING:tensorflow:Reduce LR on plateau conditioned on metric `val_acc` which is not available. Available metrics are: loss,accuracy,val_loss,val_accuracy,lr\n",
            "112/112 [==============================] - 38s 340ms/step - loss: 0.5710 - accuracy: 0.7849 - val_loss: 0.6301 - val_accuracy: 0.7671\n"
          ],
          "name": "stdout"
        }
      ]
    },
    {
      "cell_type": "markdown",
      "metadata": {
        "id": "CJq8V-3RiYSI",
        "colab_type": "text"
      },
      "source": [
        "**NOTE** : From the above observations, one can say that the convolutional neural network training set accuracy is equal to 78.41% at the epoch of 30, which is good enough training set accuracy but can be improved by tuning the hyperparameters."
      ]
    },
    {
      "cell_type": "markdown",
      "metadata": {
        "id": "w7GMYSrC567P",
        "colab_type": "text"
      },
      "source": [
        "## **MODEL** **EVALUATION**"
      ]
    },
    {
      "cell_type": "markdown",
      "metadata": {
        "id": "HS_o_Yp3gZb7",
        "colab_type": "text"
      },
      "source": [
        "**NOTE** : Now lets evaluate the model by checking the test and validation set accuracies."
      ]
    },
    {
      "cell_type": "code",
      "metadata": {
        "id": "jVdkSw7NeAHH",
        "colab_type": "code",
        "colab": {
          "base_uri": "https://localhost:8080/",
          "height": 85
        },
        "outputId": "65974550-9bd9-4bc3-c154-960afd40f956"
      },
      "source": [
        "loss_test, acc_test = model.evaluate(X_test, y_test, verbose=1)\n",
        "loss_val, acc_val = model.evaluate(X_val, y_val, verbose=1)\n",
        "print(\"Validation: accuracy = %f  ;  loss_v = %f\" % (acc_val, loss_val))\n",
        "print(\"Test: accuracy = %f  ;  loss = %f\" % (acc_test, loss_test))\n",
        "model.save(\"model.h5\")"
      ],
      "execution_count": 34,
      "outputs": [
        {
          "output_type": "stream",
          "text": [
            "32/32 [==============================] - 1s 42ms/step - loss: 0.6609 - accuracy: 0.7605\n",
            "57/57 [==============================] - 2s 43ms/step - loss: 0.6301 - accuracy: 0.7671\n",
            "Validation: accuracy = 0.767055  ;  loss_v = 0.630088\n",
            "Test: accuracy = 0.760479  ;  loss = 0.660926\n"
          ],
          "name": "stdout"
        }
      ]
    },
    {
      "cell_type": "markdown",
      "metadata": {
        "id": "iT0kGIgZ_AAt",
        "colab_type": "text"
      },
      "source": [
        "**NOTE** : From the above model evaluation code, one can observe that the test set accuracy is equal to 76.6467% and the validation set accuracy is equal to 77.5929% which signifies that the model is performing good enough."
      ]
    },
    {
      "cell_type": "markdown",
      "metadata": {
        "id": "JjfEgZl6rqX8",
        "colab_type": "text"
      },
      "source": [
        "#### **TO** **PLOT** **MODEL** **PERFORMANCE**"
      ]
    },
    {
      "cell_type": "code",
      "metadata": {
        "id": "NDJpZjwHscJa",
        "colab_type": "code",
        "colab": {}
      },
      "source": [
        "# To import matplotlib library\n",
        "import matplotlib.pyplot as plt\n",
        "import itertools"
      ],
      "execution_count": 35,
      "outputs": []
    },
    {
      "cell_type": "code",
      "metadata": {
        "id": "8kwSHtZAr3eJ",
        "colab_type": "code",
        "colab": {}
      },
      "source": [
        "#1. Function to plot model's validation loss and validation accuracy\n",
        "def plot_model_history(model_history):\n",
        "    fig, axs = plt.subplots(1,2,figsize=(15,5))\n",
        "    # summarize history for accuracy\n",
        "    axs[0].plot(range(1,len(model_history.history['accuracy'])+1),model_history.history['accuracy'])\n",
        "    axs[0].plot(range(1,len(model_history.history['val_accuracy'])+1),model_history.history['val_accuracy'])\n",
        "    axs[0].set_title('Model Accuracy')\n",
        "    axs[0].set_ylabel('Accuracy')\n",
        "    axs[0].set_xlabel('Epoch')\n",
        "    axs[0].set_xticks(np.arange(1,len(model_history.history['accuracy'])+1),len(model_history.history['accuracy'])/10)\n",
        "    axs[0].legend(['train', 'val'], loc='best')\n",
        "    # summarize history for loss\n",
        "    axs[1].plot(range(1,len(model_history.history['loss'])+1),model_history.history['loss'])\n",
        "    axs[1].plot(range(1,len(model_history.history['val_loss'])+1),model_history.history['val_loss'])\n",
        "    axs[1].set_title('Model Loss')\n",
        "    axs[1].set_ylabel('Loss')\n",
        "    axs[1].set_xlabel('Epoch')\n",
        "    axs[1].set_xticks(np.arange(1,len(model_history.history['loss'])+1),len(model_history.history['loss'])/10)\n",
        "    axs[1].legend(['train', 'val'], loc='best')\n",
        "    plt.show()"
      ],
      "execution_count": 36,
      "outputs": []
    },
    {
      "cell_type": "code",
      "metadata": {
        "id": "mwOVjY9jnvfR",
        "colab_type": "code",
        "colab": {
          "base_uri": "https://localhost:8080/",
          "height": 421
        },
        "outputId": "33f2572a-6e01-442b-d07d-58f9df05cc44"
      },
      "source": [
        "plot_model_history(history)"
      ],
      "execution_count": 37,
      "outputs": [
        {
          "output_type": "stream",
          "text": [
            "/usr/local/lib/python3.6/dist-packages/ipykernel_launcher.py:10: MatplotlibDeprecationWarning: Passing the minor parameter of set_xticks() positionally is deprecated since Matplotlib 3.2; the parameter will become keyword-only two minor releases later.\n",
            "  # Remove the CWD from sys.path while we load stuff.\n",
            "/usr/local/lib/python3.6/dist-packages/ipykernel_launcher.py:18: MatplotlibDeprecationWarning: Passing the minor parameter of set_xticks() positionally is deprecated since Matplotlib 3.2; the parameter will become keyword-only two minor releases later.\n"
          ],
          "name": "stderr"
        },
        {
          "output_type": "display_data",
          "data": {
            "image/png": "[encoded data removed]",
            "text/plain": [
              "<Figure size 1080x360 with 2 Axes>"
            ]
          },
          "metadata": {
            "tags": [],
            "needs_background": "light"
          }
        }
      ]
    },
    {
      "cell_type": "markdown",
      "metadata": {
        "id": "y5lOzkexsxaV",
        "colab_type": "text"
      },
      "source": [
        "NOTE : One can see from the above plot that the training set accuracy of the model is higher than the validation set accuracy.\n",
        "\n",
        "Also one can notice that the training set loss of the model is lesser than the testing set loss of the model."
      ]
    },
    {
      "cell_type": "code",
      "metadata": {
        "id": "MKK3C55KLbUT",
        "colab_type": "code",
        "colab": {}
      },
      "source": [
        "from sklearn.metrics import confusion_matrix\n",
        "import itertools"
      ],
      "execution_count": 38,
      "outputs": []
    },
    {
      "cell_type": "markdown",
      "metadata": {
        "id": "gf-0ks5NwCHx",
        "colab_type": "text"
      },
      "source": [
        "#### **HYPERPARAMETER** **TUNING**"
      ]
    },
    {
      "cell_type": "markdown",
      "metadata": {
        "id": "XLoRBjypwKZj",
        "colab_type": "text"
      },
      "source": [
        "#### **What** **do** **you** **mean** **by** **hyperparameter** **tuning**?\n",
        "\n",
        "In machine learning, hyperparameter optimization or tuning is the problem of choosing a set of optimal hyperparameters for a learning algorithm. A hyperparameter is a parameter whose value is used to control the learning process. By contrast, the values of other parameters (typically node weights) are learned."
      ]
    },
    {
      "cell_type": "markdown",
      "metadata": {
        "id": "0K2SB4Cd5zyH",
        "colab_type": "text"
      },
      "source": [
        "**I** **will** **use** **grid** **search** **in** **scikit**-**learn** **library** **to** **tune** **the** **hyperparameters** **of** **my** **deep** **convolutional** **neural** **network** (**DCNN**).\n",
        "\n"
      ]
    },
    {
      "cell_type": "markdown",
      "metadata": {
        "id": "9F1L4SB07I7p",
        "colab_type": "text"
      },
      "source": [
        "The hyperparameters for my model are as follows :\n",
        "\n",
        "1. batch_size\n",
        "2. epochs\n",
        "3. lr (learning rate)\n",
        "4. optimizer\n",
        "5. activation\n",
        "6. Dropout (dropout regularization)\n",
        "7. kernel_initializer"
      ]
    },
    {
      "cell_type": "code",
      "metadata": {
        "id": "gYwCru0QXRfg",
        "colab_type": "code",
        "colab": {}
      },
      "source": [
        "# Initializing the grid search function in scikit learn library\n",
        "# Importing GriDSearch from scikit-learn\n",
        "from sklearn.model_selection import GridSearchCV"
      ],
      "execution_count": null,
      "outputs": []
    },
    {
      "cell_type": "code",
      "metadata": {
        "id": "fR3s-F8P8VZH",
        "colab_type": "code",
        "colab": {}
      },
      "source": [
        "# Importing the KerasClassifier class from the scikit-learn library\n",
        "from keras.wrappers.scikit_learn import KerasClassifier"
      ],
      "execution_count": null,
      "outputs": []
    },
    {
      "cell_type": "code",
      "metadata": {
        "id": "a5nz0LC19WFD",
        "colab_type": "code",
        "colab": {}
      },
      "source": [
        "# Building the model architecture again with the same number of layers again in order to wrap the keras classifier in the scikit learn library\n",
        "def create_model():\n",
        "\n",
        "  input_shape = (64,64,3)\n",
        "  num_classes = 7\n",
        "  model = Sequential()\n",
        "  model.add(Conv2D(16, kernel_size=(3, 3),activation='relu',padding = 'Same',input_shape=input_shape))\n",
        "  model.add(MaxPool2D(pool_size = (2, 2)))\n",
        "  model.add(Conv2D(32, kernel_size=(3, 3),activation='relu',padding = 'Same'))\n",
        "  model.add(MaxPool2D(pool_size = (2, 2)))\n",
        "  model.add(Conv2D(64, kernel_size=(3,3), activation='relu', padding='Same'))\n",
        "  model.add(MaxPool2D(pool_size= (2, 2)))\n",
        "  model.add(Flatten())\n",
        "  model.add(Dense(512, activation='relu'))\n",
        "  model.add(Dropout(0.5))\n",
        "  model.add(Dense(num_classes, activation='softmax'))\n",
        "\n",
        "   \n",
        "\n",
        "  "
      ],
      "execution_count": null,
      "outputs": []
    },
    {
      "cell_type": "code",
      "metadata": {
        "id": "TJakZihRxYN0",
        "colab_type": "code",
        "colab": {}
      },
      "source": [
        "import numpy"
      ],
      "execution_count": null,
      "outputs": []
    },
    {
      "cell_type": "code",
      "metadata": {
        "id": "1uEz73TYxPUz",
        "colab_type": "code",
        "colab": {}
      },
      "source": [
        "# fix random seed for reproducibility\n",
        "seed = 7\n",
        "numpy.random.seed(seed)\n",
        "\n",
        "  \n"
      ],
      "execution_count": null,
      "outputs": []
    },
    {
      "cell_type": "code",
      "metadata": {
        "id": "_E-PibPJvD_-",
        "colab_type": "code",
        "colab": {}
      },
      "source": [
        "# create model\n",
        "model = KerasClassifier(build_fn=create_model, verbose=0)"
      ],
      "execution_count": null,
      "outputs": []
    },
    {
      "cell_type": "code",
      "metadata": {
        "id": "wrK5faTo7oaF",
        "colab_type": "code",
        "colab": {
          "base_uri": "https://localhost:8080/",
          "height": 34
        },
        "outputId": "97be1a49-fce7-40ea-9f2e-91ff006115af"
      },
      "source": [
        "X_train.shape, y_train.shape"
      ],
      "execution_count": null,
      "outputs": [
        {
          "output_type": "execute_result",
          "data": {
            "text/plain": [
              "((7210, 64, 64, 3), (7210, 7))"
            ]
          },
          "metadata": {
            "tags": []
          },
          "execution_count": 51
        }
      ]
    },
    {
      "cell_type": "code",
      "metadata": {
        "id": "OuxKpiG4xlR9",
        "colab_type": "code",
        "colab": {}
      },
      "source": [
        "# define the grid search parameters\n",
        "# batch_size = [10, 20, 40, 60, 80, 100]\n",
        "# epochs = [10, 50, 100]\n",
        "param_grid = {'batch_size': [10, 20, 30], 'epochs' : [10,25,40]}\n",
        "grid = GridSearchCV(estimator=model, param_grid=param_grid, n_jobs=-1, cv=3)\n"
      ],
      "execution_count": null,
      "outputs": []
    },
    {
      "cell_type": "code",
      "metadata": {
        "id": "H7nBhFKVHwyx",
        "colab_type": "code",
        "colab": {
          "base_uri": "https://localhost:8080/",
          "height": 194
        },
        "outputId": "41b5d453-2293-4f97-f816-d882a602d329"
      },
      "source": [
        "grid_result = grid.fit(X_train, y_train)\n",
        "# summarize results\n",
        "print(\"Best: %f using %s\" % (grid_result.best_score_, grid_result.best_params_))\n",
        "means = grid_result.cv_results_['mean_test_score']\n",
        "stds = grid_result.cv_results_['std_test_score']\n",
        "params = grid_result.cv_results_['params'] \n",
        "for mean, stdev, param in zip(means, stds, params):   \n",
        "    print(\"%f (%f) with: %r\" % (mean, stdev, param))"
      ],
      "execution_count": null,
      "outputs": [
        {
          "output_type": "stream",
          "text": [
            "Best: 0.752565 using {'batch_size': 30, 'epochs': 10}\n",
            "0.739528 (0.005049) with: {'batch_size': 10, 'epochs': 10}\n",
            "0.726907 (0.005519) with: {'batch_size': 10, 'epochs': 25}\n",
            "0.729542 (0.006355) with: {'batch_size': 10, 'epochs': 40}\n",
            "0.740082 (0.011134) with: {'batch_size': 20, 'epochs': 10}\n",
            "0.730098 (0.002714) with: {'batch_size': 20, 'epochs': 25}\n",
            "0.727181 (0.019169) with: {'batch_size': 20, 'epochs': 40}\n",
            "0.752565 (0.004244) with: {'batch_size': 30, 'epochs': 10}\n",
            "0.749097 (0.008950) with: {'batch_size': 30, 'epochs': 25}\n",
            "0.735643 (0.012216) with: {'batch_size': 30, 'epochs': 40}\n"
          ],
          "name": "stdout"
        }
      ]
    },
    {
      "cell_type": "markdown",
      "metadata": {
        "id": "-nrJfI0-qGlf",
        "colab_type": "text"
      },
      "source": [
        "**NOTE** : From the above hyperparameter tuning algorithm, one can see that the batch_size was given the values as 10, 20. 30, while the epoch values were given as 10, 25, 40 from which the best efficiency of the model was achieved at a batch size of 30 and epoch value as 10 and which was 75.25% accuracy.\n",
        "\n",
        "But one can also notice that the model which was trained with an epoch value of 30 and batch size of 64 gave higher accuracy of 77.85% as compared to the model which was found as the best performing model from hyperparameter tuning. Hence considering the previous model as our final model for further analysis."
      ]
    },
    {
      "cell_type": "markdown",
      "metadata": {
        "id": "GGSjJ6tjA-Fk",
        "colab_type": "text"
      },
      "source": [
        "**PLOTTING** **THE** **CONFUSION** **MATRIX** **IN** **ORDER** **TO** **CHECK** **HOW** **ACCURATE** **ARE** **OUR** **PREDICTIONS** ARE"
      ]
    },
    {
      "cell_type": "code",
      "metadata": {
        "id": "0PjM1l6cyhke",
        "colab_type": "code",
        "colab": {
          "base_uri": "https://localhost:8080/",
          "height": 311
        },
        "outputId": "a32d9691-f527-4183-92eb-03fb20852088"
      },
      "source": [
        "# Function to plot confusion matrix    \n",
        "def plot_confusion_matrix(cm, classes,\n",
        "                          normalize=False,\n",
        "                          title='Confusion matrix',\n",
        "                          cmap=plt.cm.Blues):\n",
        "    \"\"\"\n",
        "    This function prints and plots the confusion matrix.\n",
        "    Normalization can be applied by setting `normalize=True`.\n",
        "    \"\"\"\n",
        "    plt.imshow(cm, interpolation='nearest', cmap=cmap)\n",
        "    plt.title(title)\n",
        "    plt.colorbar()\n",
        "    tick_marks = np.arange(len(classes))\n",
        "    plt.xticks(tick_marks, classes, rotation=45)\n",
        "    plt.yticks(tick_marks, classes)\n",
        "    if normalize:\n",
        "        cm = cm.astype('float') / cm.sum(axis=1)[:, np.newaxis]\n",
        "\n",
        "    thresh = cm.max() / 2.\n",
        "    for i, j in itertools.product(range(cm.shape[0]), range(cm.shape[1])):\n",
        "        plt.text(j, i, cm[i, j],\n",
        "                 horizontalalignment=\"center\",\n",
        "                 color=\"white\" if cm[i, j] > thresh else \"black\")\n",
        "\n",
        "    plt.tight_layout()\n",
        "    plt.ylabel('True label')\n",
        "    plt.xlabel('Predicted label')\n",
        "\n",
        "# Predict the values from the validation dataset\n",
        "Y_pred = model.predict(X_val)\n",
        "# Convert predictions classes to one hot vectors \n",
        "Y_pred_classes = np.argmax(Y_pred,axis = 1) \n",
        "# Convert validation observations to one hot vectors\n",
        "Y_true = np.argmax(y_val,axis = 1) \n",
        "# compute the confusion matrix\n",
        "confusion_mtx = confusion_matrix(Y_true, Y_pred_classes)\n",
        "\n",
        "# plot the confusion matrix\n",
        "plot_confusion_matrix(confusion_mtx, classes = range(7)) \n",
        "   "
      ],
      "execution_count": 54,
      "outputs": [
        {
          "output_type": "display_data",
          "data": {
            "image/png": "[encoded data removed]",
            "text/plain": [
              "<Figure size 432x288 with 2 Axes>"
            ]
          },
          "metadata": {
            "tags": [],
            "needs_background": "light"
          }
        }
      ]
    },
    {
      "cell_type": "code",
      "metadata": {
        "id": "sHZ9BCA3ynLS",
        "colab_type": "code",
        "colab": {
          "base_uri": "https://localhost:8080/",
          "height": 300
        },
        "outputId": "ea7be0a0-215a-41c7-f707-b1b5ed1c152f"
      },
      "source": [
        "label_frac_error = 1 - np.diag(confusion_mtx) / np.sum(confusion_mtx, axis=1)\n",
        "plt.bar(np.arange(7),label_frac_error)\n",
        "plt.xlabel('True Label')\n",
        "plt.ylabel('Fraction classified incorrectly')"
      ],
      "execution_count": 55,
      "outputs": [
        {
          "output_type": "execute_result",
          "data": {
            "text/plain": [
              "Text(0, 0.5, 'Fraction classified incorrectly')"
            ]
          },
          "metadata": {
            "tags": []
          },
          "execution_count": 55
        },
        {
          "output_type": "display_data",
          "data": {
            "image/png": "[encoded data removed]",
            "text/plain": [
              "<Figure size 432x288 with 1 Axes>"
            ]
          },
          "metadata": {
            "tags": [],
            "needs_background": "light"
          }
        }
      ]
    },
    {
      "cell_type": "markdown",
      "metadata": {
        "id": "alUM7gifysQD",
        "colab_type": "text"
      },
      "source": [
        "**CONCLUSION** : It seems our model has maximum number of incorrect predictions for Basal cell carcinoma which has code 3, then second most missclassified type is Vascular lesions code 5 then Melanocytic nevi code 0 where as Actinic keratoses code 4 has least misclassified type.\n",
        "\n",
        "We can also further tune our model to easily achieve the accuracy above 80% and I think still this model is efficient in comparison to detection with human eyes having 77.0344% accuracy.\n",
        "\n"
      ]
    },
    {
      "cell_type": "markdown",
      "metadata": {
        "id": "OIRu32mPRb3f",
        "colab_type": "text"
      },
      "source": [
        "**CONTRIBUTION** : \n",
        "\n",
        "Code by self----70%\n",
        "\n",
        "Code by reference----30%"
      ]
    },
    {
      "cell_type": "markdown",
      "metadata": {
        "id": "BEqYRc1FRn3H",
        "colab_type": "text"
      },
      "source": [
        "**CITATIONS** :\n",
        "\n",
        "SKIN CANCER MNIST DATASET KAGGLE: https://www.kaggle.com/kmader/skin-cancer-mnist-ham10000\n",
        "\n",
        "OVERVIEW OF IMAGE CLASSIFICATION USING CNN: https://analyticsindiamag.com/deep-learning-image-classification-with-cnn-an-overview/\n",
        "\n",
        "GRIDSEARCHCV DOCUMENTATION : https://scikit-learn.org/stable/modules/generated/sklearn.model_selection.GridSearchCV.html"
      ]
    },
    {
      "cell_type": "markdown",
      "metadata": {
        "id": "hWNmDMUiR-bc",
        "colab_type": "text"
      },
      "source": [
        " **LICENSE** : \n",
        "\n",
        "Copyright 2019 Ria Rajput\n",
        "\n",
        "Permission is hereby granted, free of charge, to any person obtaining a copy of this software and associated documentation files (the \"Software\"), to deal in the Software without restriction, including without limitation the rights to use, copy, modify, merge, publish, distribute, sublicense, and/or sell copies of the Software, and to permit persons to whom the Software is furnished to do so, subject to the following conditions: The above copyright notice and this permission notice shall be included in all copies or substantial portions of the Software. THE SOFTWARE IS PROVIDED \"AS IS\", WITHOUT WARRANTY OF ANY KIND, EXPRESS OR IMPLIED, INCLUDING BUT NOT LIMITED TO THE WARRANTIES OF MERCHANTABILITY, FITNESS FOR A PARTICULAR PURPOSE AND NONINFRINGEMENT. IN NO EVENT SHALL THE AUTHORS OR COPYRIGHT HOLDERS BE LIABLE FOR ANY CLAIM, DAMAGES OR OTHER LIABILITY, WHETHER IN AN ACTION OF CONTRACT, TORT OR OTHERWISE, ARISING FROM, OUT OF OR IN CONNECTION WITH THE SOFTWARE OR THE USE OR OTHER DEALINGS IN THE SOFTWARE.\n",
        "\n"
      ]
    },
    {
      "cell_type": "code",
      "metadata": {
        "id": "8RLBEV7Ry4Ij",
        "colab_type": "code",
        "colab": {}
      },
      "source": [
        ""
      ],
      "execution_count": null,
      "outputs": []
    }
  ]
}